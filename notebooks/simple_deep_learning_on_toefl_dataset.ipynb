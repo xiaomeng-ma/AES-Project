{
  "nbformat": 4,
  "nbformat_minor": 0,
  "metadata": {
    "colab": {
      "name": "simple_deep_learning_on_toefl_dataset.ipynb",
      "provenance": [],
      "collapsed_sections": []
    },
    "kernelspec": {
      "display_name": "Python 3",
      "language": "python",
      "name": "python3"
    },
    "language_info": {
      "codemirror_mode": {
        "name": "ipython",
        "version": 3
      },
      "file_extension": ".py",
      "mimetype": "text/x-python",
      "name": "python",
      "nbconvert_exporter": "python",
      "pygments_lexer": "ipython3",
      "version": "3.6.5"
    }
  },
  "cells": [
    {
      "cell_type": "code",
      "metadata": {
        "id": "zP33FRUV_t_W",
        "colab_type": "code",
        "outputId": "f9d17721-7be1-4ac8-f7cd-a872e11de66c",
        "colab": {
          "base_uri": "https://localhost:8080/",
          "height": 34
        }
      },
      "source": [
        "# Use some functions from tensorflow_docs\n",
        "!pip install -q git+https://github.com/tensorflow/docs"
      ],
      "execution_count": 1,
      "outputs": [
        {
          "output_type": "stream",
          "text": [
            "  Building wheel for tensorflow-docs (setup.py) ... \u001b[?25l\u001b[?25hdone\n"
          ],
          "name": "stdout"
        }
      ]
    },
    {
      "cell_type": "code",
      "metadata": {
        "colab_type": "code",
        "id": "SftuBzlcD_kd",
        "colab": {}
      },
      "source": [
        "import matplotlib.pyplot as plt\n",
        "import numpy as np\n",
        "import pandas as pd"
      ],
      "execution_count": 0,
      "outputs": []
    },
    {
      "cell_type": "code",
      "metadata": {
        "colab_type": "code",
        "id": "Qds7KXYCEJVd",
        "outputId": "8816586b-060a-488a-be96-11ff1eececa6",
        "colab": {
          "base_uri": "https://localhost:8080/",
          "height": 34
        }
      },
      "source": [
        "import tensorflow as tf\n",
        "\n",
        "from tensorflow import keras\n",
        "from tensorflow.keras import layers\n",
        "\n",
        "print(tf.__version__)"
      ],
      "execution_count": 3,
      "outputs": [
        {
          "output_type": "stream",
          "text": [
            "2.2.0-rc4\n"
          ],
          "name": "stdout"
        }
      ]
    },
    {
      "cell_type": "code",
      "metadata": {
        "colab_type": "code",
        "id": "qDDRfLyUERJu",
        "colab": {}
      },
      "source": [
        "import tensorflow_docs as tfdocs\n",
        "import tensorflow_docs.plots\n",
        "import tensorflow_docs.modeling"
      ],
      "execution_count": 0,
      "outputs": []
    },
    {
      "cell_type": "markdown",
      "metadata": {
        "colab_type": "text",
        "id": "MDxMBv1IFrTO"
      },
      "source": [
        "**Get the data**\n",
        "\n",
        "---\n",
        "\n",
        "\n",
        "Read toefl data from project repositoy"
      ]
    },
    {
      "cell_type": "code",
      "metadata": {
        "colab_type": "code",
        "id": "8mRUaMcxErGU",
        "outputId": "f4e7ae60-e4e8-4580-cb28-793a104326ab",
        "colab": {
          "base_uri": "https://localhost:8080/",
          "height": 241
        }
      },
      "source": [
        "df = pd.read_csv('https://raw.githubusercontent.com/xiaomeng-ma/AES-Project/master/TOEFL_11/processed_toefl.csv?token=AKHHIKC6HDXJQCOKXMEXBI26XBL56')\n",
        "df.head()"
      ],
      "execution_count": 5,
      "outputs": [
        {
          "output_type": "execute_result",
          "data": {
            "text/html": [
              "<div>\n",
              "<style scoped>\n",
              "    .dataframe tbody tr th:only-of-type {\n",
              "        vertical-align: middle;\n",
              "    }\n",
              "\n",
              "    .dataframe tbody tr th {\n",
              "        vertical-align: top;\n",
              "    }\n",
              "\n",
              "    .dataframe thead th {\n",
              "        text-align: right;\n",
              "    }\n",
              "</style>\n",
              "<table border=\"1\" class=\"dataframe\">\n",
              "  <thead>\n",
              "    <tr style=\"text-align: right;\">\n",
              "      <th></th>\n",
              "      <th>Prompt</th>\n",
              "      <th>Language</th>\n",
              "      <th>Score Level</th>\n",
              "      <th>total word</th>\n",
              "      <th>distance</th>\n",
              "      <th>Hpoint</th>\n",
              "      <th>xmin</th>\n",
              "      <th>alpha</th>\n",
              "      <th>mu</th>\n",
              "      <th>sigma</th>\n",
              "      <th>logtrue</th>\n",
              "      <th>file</th>\n",
              "      <th>pl_s</th>\n",
              "      <th>pl_C</th>\n",
              "      <th>pl_R2</th>\n",
              "      <th>log_d</th>\n",
              "      <th>log_m</th>\n",
              "      <th>log_k</th>\n",
              "      <th>log_R2</th>\n",
              "    </tr>\n",
              "  </thead>\n",
              "  <tbody>\n",
              "    <tr>\n",
              "      <th>0</th>\n",
              "      <td>5</td>\n",
              "      <td>6</td>\n",
              "      <td>high</td>\n",
              "      <td>385</td>\n",
              "      <td>6.000000</td>\n",
              "      <td>8</td>\n",
              "      <td>2.0</td>\n",
              "      <td>2.273182</td>\n",
              "      <td>-10.388887</td>\n",
              "      <td>3.025490</td>\n",
              "      <td>0</td>\n",
              "      <td>88</td>\n",
              "      <td>0.626725</td>\n",
              "      <td>27.346485</td>\n",
              "      <td>0.883300</td>\n",
              "      <td>3.478245</td>\n",
              "      <td>0.639538</td>\n",
              "      <td>1.090635</td>\n",
              "      <td>0.869275</td>\n",
              "    </tr>\n",
              "    <tr>\n",
              "      <th>1</th>\n",
              "      <td>5</td>\n",
              "      <td>1</td>\n",
              "      <td>medium</td>\n",
              "      <td>321</td>\n",
              "      <td>11.000000</td>\n",
              "      <td>7</td>\n",
              "      <td>3.0</td>\n",
              "      <td>2.421178</td>\n",
              "      <td>-2.618379</td>\n",
              "      <td>1.817156</td>\n",
              "      <td>0</td>\n",
              "      <td>278</td>\n",
              "      <td>0.720874</td>\n",
              "      <td>31.641664</td>\n",
              "      <td>0.962596</td>\n",
              "      <td>3.573915</td>\n",
              "      <td>0.757765</td>\n",
              "      <td>1.032666</td>\n",
              "      <td>0.951214</td>\n",
              "    </tr>\n",
              "    <tr>\n",
              "      <th>2</th>\n",
              "      <td>0</td>\n",
              "      <td>9</td>\n",
              "      <td>high</td>\n",
              "      <td>363</td>\n",
              "      <td>8.306624</td>\n",
              "      <td>6</td>\n",
              "      <td>2.0</td>\n",
              "      <td>2.398038</td>\n",
              "      <td>-2.825649</td>\n",
              "      <td>1.739209</td>\n",
              "      <td>0</td>\n",
              "      <td>348</td>\n",
              "      <td>0.621470</td>\n",
              "      <td>21.737883</td>\n",
              "      <td>0.965709</td>\n",
              "      <td>3.352892</td>\n",
              "      <td>0.874682</td>\n",
              "      <td>0.849857</td>\n",
              "      <td>0.889519</td>\n",
              "    </tr>\n",
              "    <tr>\n",
              "      <th>3</th>\n",
              "      <td>1</td>\n",
              "      <td>10</td>\n",
              "      <td>medium</td>\n",
              "      <td>362</td>\n",
              "      <td>4.690416</td>\n",
              "      <td>6</td>\n",
              "      <td>5.0</td>\n",
              "      <td>3.410995</td>\n",
              "      <td>0.835672</td>\n",
              "      <td>0.746383</td>\n",
              "      <td>0</td>\n",
              "      <td>666</td>\n",
              "      <td>0.538645</td>\n",
              "      <td>18.320499</td>\n",
              "      <td>0.924139</td>\n",
              "      <td>2.824981</td>\n",
              "      <td>0.296708</td>\n",
              "      <td>1.441791</td>\n",
              "      <td>0.969115</td>\n",
              "    </tr>\n",
              "    <tr>\n",
              "      <th>4</th>\n",
              "      <td>5</td>\n",
              "      <td>8</td>\n",
              "      <td>medium</td>\n",
              "      <td>344</td>\n",
              "      <td>10.630146</td>\n",
              "      <td>7</td>\n",
              "      <td>6.0</td>\n",
              "      <td>3.124099</td>\n",
              "      <td>-0.359383</td>\n",
              "      <td>1.163868</td>\n",
              "      <td>0</td>\n",
              "      <td>733</td>\n",
              "      <td>0.646729</td>\n",
              "      <td>25.998149</td>\n",
              "      <td>0.938335</td>\n",
              "      <td>3.393319</td>\n",
              "      <td>0.638436</td>\n",
              "      <td>1.093227</td>\n",
              "      <td>0.926643</td>\n",
              "    </tr>\n",
              "  </tbody>\n",
              "</table>\n",
              "</div>"
            ],
            "text/plain": [
              "   Prompt  Language Score Level  ...     log_m     log_k    log_R2\n",
              "0       5         6        high  ...  0.639538  1.090635  0.869275\n",
              "1       5         1      medium  ...  0.757765  1.032666  0.951214\n",
              "2       0         9        high  ...  0.874682  0.849857  0.889519\n",
              "3       1        10      medium  ...  0.296708  1.441791  0.969115\n",
              "4       5         8      medium  ...  0.638436  1.093227  0.926643\n",
              "\n",
              "[5 rows x 19 columns]"
            ]
          },
          "metadata": {
            "tags": []
          },
          "execution_count": 5
        }
      ]
    },
    {
      "cell_type": "markdown",
      "metadata": {
        "colab_type": "text",
        "id": "sdxaXajlHQtS"
      },
      "source": [
        "**Convert Target column to numberic**"
      ]
    },
    {
      "cell_type": "code",
      "metadata": {
        "colab_type": "code",
        "id": "zg9amSPhZ_XH",
        "outputId": "83c6657b-37c9-467e-8dc5-06e9e9165011",
        "colab": {
          "base_uri": "https://localhost:8080/",
          "height": 241
        }
      },
      "source": [
        "score_mapping ={\n",
        "    'low':0,\n",
        "    'medium':1,\n",
        "    'high': 2\n",
        "}\n",
        "inv_score_mapping = {v: k for k, v in score_mapping.items()}\n",
        "df['Score Level'] = df['Score Level'].map(score_mapping)\n",
        "df.head()"
      ],
      "execution_count": 6,
      "outputs": [
        {
          "output_type": "execute_result",
          "data": {
            "text/html": [
              "<div>\n",
              "<style scoped>\n",
              "    .dataframe tbody tr th:only-of-type {\n",
              "        vertical-align: middle;\n",
              "    }\n",
              "\n",
              "    .dataframe tbody tr th {\n",
              "        vertical-align: top;\n",
              "    }\n",
              "\n",
              "    .dataframe thead th {\n",
              "        text-align: right;\n",
              "    }\n",
              "</style>\n",
              "<table border=\"1\" class=\"dataframe\">\n",
              "  <thead>\n",
              "    <tr style=\"text-align: right;\">\n",
              "      <th></th>\n",
              "      <th>Prompt</th>\n",
              "      <th>Language</th>\n",
              "      <th>Score Level</th>\n",
              "      <th>total word</th>\n",
              "      <th>distance</th>\n",
              "      <th>Hpoint</th>\n",
              "      <th>xmin</th>\n",
              "      <th>alpha</th>\n",
              "      <th>mu</th>\n",
              "      <th>sigma</th>\n",
              "      <th>logtrue</th>\n",
              "      <th>file</th>\n",
              "      <th>pl_s</th>\n",
              "      <th>pl_C</th>\n",
              "      <th>pl_R2</th>\n",
              "      <th>log_d</th>\n",
              "      <th>log_m</th>\n",
              "      <th>log_k</th>\n",
              "      <th>log_R2</th>\n",
              "    </tr>\n",
              "  </thead>\n",
              "  <tbody>\n",
              "    <tr>\n",
              "      <th>0</th>\n",
              "      <td>5</td>\n",
              "      <td>6</td>\n",
              "      <td>2</td>\n",
              "      <td>385</td>\n",
              "      <td>6.000000</td>\n",
              "      <td>8</td>\n",
              "      <td>2.0</td>\n",
              "      <td>2.273182</td>\n",
              "      <td>-10.388887</td>\n",
              "      <td>3.025490</td>\n",
              "      <td>0</td>\n",
              "      <td>88</td>\n",
              "      <td>0.626725</td>\n",
              "      <td>27.346485</td>\n",
              "      <td>0.883300</td>\n",
              "      <td>3.478245</td>\n",
              "      <td>0.639538</td>\n",
              "      <td>1.090635</td>\n",
              "      <td>0.869275</td>\n",
              "    </tr>\n",
              "    <tr>\n",
              "      <th>1</th>\n",
              "      <td>5</td>\n",
              "      <td>1</td>\n",
              "      <td>1</td>\n",
              "      <td>321</td>\n",
              "      <td>11.000000</td>\n",
              "      <td>7</td>\n",
              "      <td>3.0</td>\n",
              "      <td>2.421178</td>\n",
              "      <td>-2.618379</td>\n",
              "      <td>1.817156</td>\n",
              "      <td>0</td>\n",
              "      <td>278</td>\n",
              "      <td>0.720874</td>\n",
              "      <td>31.641664</td>\n",
              "      <td>0.962596</td>\n",
              "      <td>3.573915</td>\n",
              "      <td>0.757765</td>\n",
              "      <td>1.032666</td>\n",
              "      <td>0.951214</td>\n",
              "    </tr>\n",
              "    <tr>\n",
              "      <th>2</th>\n",
              "      <td>0</td>\n",
              "      <td>9</td>\n",
              "      <td>2</td>\n",
              "      <td>363</td>\n",
              "      <td>8.306624</td>\n",
              "      <td>6</td>\n",
              "      <td>2.0</td>\n",
              "      <td>2.398038</td>\n",
              "      <td>-2.825649</td>\n",
              "      <td>1.739209</td>\n",
              "      <td>0</td>\n",
              "      <td>348</td>\n",
              "      <td>0.621470</td>\n",
              "      <td>21.737883</td>\n",
              "      <td>0.965709</td>\n",
              "      <td>3.352892</td>\n",
              "      <td>0.874682</td>\n",
              "      <td>0.849857</td>\n",
              "      <td>0.889519</td>\n",
              "    </tr>\n",
              "    <tr>\n",
              "      <th>3</th>\n",
              "      <td>1</td>\n",
              "      <td>10</td>\n",
              "      <td>1</td>\n",
              "      <td>362</td>\n",
              "      <td>4.690416</td>\n",
              "      <td>6</td>\n",
              "      <td>5.0</td>\n",
              "      <td>3.410995</td>\n",
              "      <td>0.835672</td>\n",
              "      <td>0.746383</td>\n",
              "      <td>0</td>\n",
              "      <td>666</td>\n",
              "      <td>0.538645</td>\n",
              "      <td>18.320499</td>\n",
              "      <td>0.924139</td>\n",
              "      <td>2.824981</td>\n",
              "      <td>0.296708</td>\n",
              "      <td>1.441791</td>\n",
              "      <td>0.969115</td>\n",
              "    </tr>\n",
              "    <tr>\n",
              "      <th>4</th>\n",
              "      <td>5</td>\n",
              "      <td>8</td>\n",
              "      <td>1</td>\n",
              "      <td>344</td>\n",
              "      <td>10.630146</td>\n",
              "      <td>7</td>\n",
              "      <td>6.0</td>\n",
              "      <td>3.124099</td>\n",
              "      <td>-0.359383</td>\n",
              "      <td>1.163868</td>\n",
              "      <td>0</td>\n",
              "      <td>733</td>\n",
              "      <td>0.646729</td>\n",
              "      <td>25.998149</td>\n",
              "      <td>0.938335</td>\n",
              "      <td>3.393319</td>\n",
              "      <td>0.638436</td>\n",
              "      <td>1.093227</td>\n",
              "      <td>0.926643</td>\n",
              "    </tr>\n",
              "  </tbody>\n",
              "</table>\n",
              "</div>"
            ],
            "text/plain": [
              "   Prompt  Language  Score Level  ...     log_m     log_k    log_R2\n",
              "0       5         6            2  ...  0.639538  1.090635  0.869275\n",
              "1       5         1            1  ...  0.757765  1.032666  0.951214\n",
              "2       0         9            2  ...  0.874682  0.849857  0.889519\n",
              "3       1        10            1  ...  0.296708  1.441791  0.969115\n",
              "4       5         8            1  ...  0.638436  1.093227  0.926643\n",
              "\n",
              "[5 rows x 19 columns]"
            ]
          },
          "metadata": {
            "tags": []
          },
          "execution_count": 6
        }
      ]
    },
    {
      "cell_type": "code",
      "metadata": {
        "colab_type": "code",
        "id": "_tc4I8v8p7Xc",
        "outputId": "3520f51d-842f-4f3d-adfd-12a346953bab",
        "colab": {
          "base_uri": "https://localhost:8080/",
          "height": 279
        }
      },
      "source": [
        "df['Score Level'].value_counts().plot(kind='bar')"
      ],
      "execution_count": 7,
      "outputs": [
        {
          "output_type": "execute_result",
          "data": {
            "text/plain": [
              "<matplotlib.axes._subplots.AxesSubplot at 0x7fe4f0d90710>"
            ]
          },
          "metadata": {
            "tags": []
          },
          "execution_count": 7
        },
        {
          "output_type": "display_data",
          "data": {
            "image/png": "[encoded data removed]",
            "text/plain": [
              "<Figure size 432x288 with 1 Axes>"
            ]
          },
          "metadata": {
            "tags": [],
            "needs_background": "light"
          }
        }
      ]
    },
    {
      "cell_type": "markdown",
      "metadata": {
        "colab_type": "text",
        "id": "LMA5_rrpqPYy"
      },
      "source": [
        "**Divide variables into independent variables and a dependent variable**"
      ]
    },
    {
      "cell_type": "code",
      "metadata": {
        "colab_type": "code",
        "id": "N2IiVDTwlzEO",
        "colab": {}
      },
      "source": [
        "X, y = df.drop(['Score Level'],axis=1), df['Score Level']"
      ],
      "execution_count": 0,
      "outputs": []
    },
    {
      "cell_type": "markdown",
      "metadata": {
        "colab_type": "text",
        "id": "yY-oyNYiHGYQ"
      },
      "source": [
        "**Normalize the data using Standard Scaler**"
      ]
    },
    {
      "cell_type": "code",
      "metadata": {
        "colab_type": "code",
        "id": "cnJQzfzzqOHq",
        "colab": {}
      },
      "source": [
        "from sklearn.preprocessing import StandardScaler\n",
        "standard_scaler = StandardScaler()\n",
        "X = standard_scaler.fit_transform(X)"
      ],
      "execution_count": 0,
      "outputs": []
    },
    {
      "cell_type": "markdown",
      "metadata": {
        "colab_type": "text",
        "id": "j2NUx08gqgQV"
      },
      "source": [
        "**Divide the data into a test and training set**"
      ]
    },
    {
      "cell_type": "code",
      "metadata": {
        "colab_type": "code",
        "id": "Q3zA-z-dqnDW",
        "outputId": "3ad1764d-f0b6-4f47-8fa1-56726f0bed52",
        "colab": {
          "base_uri": "https://localhost:8080/",
          "height": 34
        }
      },
      "source": [
        "from sklearn.model_selection import train_test_split\n",
        "X_train, X_test, y_train, y_test = train_test_split(X, y, test_size=0.20, random_state=123,stratify=y)\n",
        "print(X_train.shape, y_train.shape, X_test.shape, y_test.shape)"
      ],
      "execution_count": 13,
      "outputs": [
        {
          "output_type": "stream",
          "text": [
            "(9678, 18) (9678,) (2420, 18) (2420,)\n"
          ],
          "name": "stdout"
        }
      ]
    },
    {
      "cell_type": "markdown",
      "metadata": {
        "colab_type": "text",
        "id": "wRs3lCoTGTqo"
      },
      "source": [
        "**Define a deep learning model**"
      ]
    },
    {
      "cell_type": "code",
      "metadata": {
        "colab_type": "code",
        "id": "l7nuPTUP31W7",
        "colab": {}
      },
      "source": [
        "model = keras.Sequential([\n",
        "    layers.Dense(64, activation='relu', input_shape=[X.shape[1]]),\n",
        "    layers.Dense(32, activation='relu'),\n",
        "    layers.Dropout(0.3),\n",
        "    layers.Dense(3)\n",
        "  ])\n",
        "\n",
        "model.compile(optimizer='adam',\n",
        "              loss=tf.keras.losses.SparseCategoricalCrossentropy(from_logits=True),\n",
        "              metrics=['accuracy','mae', 'mse'])\n",
        "\n"
      ],
      "execution_count": 0,
      "outputs": []
    },
    {
      "cell_type": "markdown",
      "metadata": {
        "colab_type": "text",
        "id": "rX5VbgoEGjYZ"
      },
      "source": [
        "**Fit model with Train data with validation split 0.2**"
      ]
    },
    {
      "cell_type": "code",
      "metadata": {
        "colab_type": "code",
        "id": "Ok5xj2hP6v38",
        "outputId": "e3ea6bdc-e33a-4596-a991-8c27c24d3979",
        "colab": {
          "base_uri": "https://localhost:8080/",
          "height": 1000
        }
      },
      "source": [
        "# The patience parameter is the amount of epochs to check for improvement\n",
        "early_stop = keras.callbacks.EarlyStopping(monitor='accuracy', patience=10)\n",
        "\n",
        "history = model.fit(X_train, y_train, validation_split = 0.2, callbacks=[early_stop, tfdocs.modeling.EpochDots()], epochs=100)"
      ],
      "execution_count": 69,
      "outputs": [
        {
          "output_type": "stream",
          "text": [
            "Epoch 1/100\n",
            "220/242 [==========================>...] - ETA: 0s - loss: 0.8164 - accuracy: 0.6044 - mae: 1.6209 - mse: 4.1777\n",
            "Epoch: 0, accuracy:0.6080,  loss:0.8113,  mae:1.6292,  mse:4.2858,  val_accuracy:0.6875,  val_loss:0.6946,  val_mae:1.6818,  val_mse:5.1042,  \n",
            "242/242 [==============================] - 1s 2ms/step - loss: 0.8113 - accuracy: 0.6080 - mae: 1.6292 - mse: 4.2858 - val_loss: 0.6946 - val_accuracy: 0.6875 - val_mae: 1.6818 - val_mse: 5.1042\n",
            "Epoch 2/100\n",
            "242/242 [==============================] - 0s 2ms/step - loss: 0.7220 - accuracy: 0.6635 - mae: 1.7974 - mse: 5.8888 - val_loss: 0.6684 - val_accuracy: 0.6942 - val_mae: 1.7860 - val_mse: 5.9053\n",
            "Epoch 3/100\n",
            "242/242 [==============================] - 0s 2ms/step - loss: 0.7044 - accuracy: 0.6669 - mae: 1.8413 - mse: 6.4968 - val_loss: 0.6589 - val_accuracy: 0.6968 - val_mae: 1.7932 - val_mse: 6.4714\n",
            "Epoch 4/100\n",
            "242/242 [==============================] - 0s 2ms/step - loss: 0.6964 - accuracy: 0.6773 - mae: 1.8436 - mse: 6.6375 - val_loss: 0.6564 - val_accuracy: 0.6880 - val_mae: 1.7689 - val_mse: 6.2591\n",
            "Epoch 5/100\n",
            "242/242 [==============================] - 0s 2ms/step - loss: 0.6816 - accuracy: 0.6883 - mae: 1.9046 - mse: 7.2668 - val_loss: 0.6557 - val_accuracy: 0.7009 - val_mae: 1.8273 - val_mse: 6.6124\n",
            "Epoch 6/100\n",
            "242/242 [==============================] - 0s 2ms/step - loss: 0.6843 - accuracy: 0.6798 - mae: 1.9039 - mse: 7.2209 - val_loss: 0.6520 - val_accuracy: 0.7009 - val_mae: 1.8285 - val_mse: 6.6912\n",
            "Epoch 7/100\n",
            "242/242 [==============================] - 0s 2ms/step - loss: 0.6791 - accuracy: 0.6887 - mae: 1.9209 - mse: 7.3453 - val_loss: 0.6526 - val_accuracy: 0.6978 - val_mae: 1.8680 - val_mse: 6.8873\n",
            "Epoch 8/100\n",
            "242/242 [==============================] - 0s 2ms/step - loss: 0.6752 - accuracy: 0.6885 - mae: 1.9143 - mse: 7.4139 - val_loss: 0.6520 - val_accuracy: 0.7014 - val_mae: 1.8456 - val_mse: 6.9456\n",
            "Epoch 9/100\n",
            "242/242 [==============================] - 0s 2ms/step - loss: 0.6727 - accuracy: 0.6975 - mae: 1.9333 - mse: 7.5940 - val_loss: 0.6507 - val_accuracy: 0.7009 - val_mae: 1.8045 - val_mse: 6.5712\n",
            "Epoch 10/100\n",
            "242/242 [==============================] - 0s 2ms/step - loss: 0.6742 - accuracy: 0.6896 - mae: 1.9299 - mse: 7.4787 - val_loss: 0.6492 - val_accuracy: 0.6994 - val_mae: 1.8573 - val_mse: 7.0128\n",
            "Epoch 11/100\n",
            "242/242 [==============================] - 0s 2ms/step - loss: 0.6719 - accuracy: 0.6956 - mae: 1.9321 - mse: 7.5422 - val_loss: 0.6516 - val_accuracy: 0.6921 - val_mae: 1.8256 - val_mse: 6.6855\n",
            "Epoch 12/100\n",
            "242/242 [==============================] - 0s 2ms/step - loss: 0.6673 - accuracy: 0.6963 - mae: 1.9374 - mse: 7.6404 - val_loss: 0.6480 - val_accuracy: 0.6994 - val_mae: 1.8658 - val_mse: 7.0979\n",
            "Epoch 13/100\n",
            "242/242 [==============================] - 0s 2ms/step - loss: 0.6707 - accuracy: 0.6926 - mae: 1.9390 - mse: 7.5510 - val_loss: 0.6486 - val_accuracy: 0.6947 - val_mae: 1.8735 - val_mse: 7.1662\n",
            "Epoch 14/100\n",
            "242/242 [==============================] - 0s 2ms/step - loss: 0.6651 - accuracy: 0.6937 - mae: 1.9388 - mse: 7.6848 - val_loss: 0.6474 - val_accuracy: 0.6963 - val_mae: 1.9090 - val_mse: 7.5426\n",
            "Epoch 15/100\n",
            "242/242 [==============================] - 0s 2ms/step - loss: 0.6706 - accuracy: 0.6914 - mae: 1.9571 - mse: 7.7235 - val_loss: 0.6495 - val_accuracy: 0.6942 - val_mae: 1.8932 - val_mse: 7.4197\n",
            "Epoch 16/100\n",
            "242/242 [==============================] - 0s 2ms/step - loss: 0.6659 - accuracy: 0.6945 - mae: 1.9917 - mse: 8.1062 - val_loss: 0.6461 - val_accuracy: 0.6983 - val_mae: 1.9154 - val_mse: 7.3909\n",
            "Epoch 17/100\n",
            "242/242 [==============================] - 0s 2ms/step - loss: 0.6593 - accuracy: 0.6984 - mae: 1.9987 - mse: 8.1100 - val_loss: 0.6518 - val_accuracy: 0.6958 - val_mae: 1.9532 - val_mse: 7.9358\n",
            "Epoch 18/100\n",
            "242/242 [==============================] - 0s 2ms/step - loss: 0.6632 - accuracy: 0.6945 - mae: 2.0121 - mse: 8.2439 - val_loss: 0.6479 - val_accuracy: 0.6983 - val_mae: 1.9362 - val_mse: 7.7070\n",
            "Epoch 19/100\n",
            "242/242 [==============================] - 0s 2ms/step - loss: 0.6636 - accuracy: 0.6936 - mae: 2.0116 - mse: 8.3660 - val_loss: 0.6498 - val_accuracy: 0.7030 - val_mae: 1.9232 - val_mse: 7.6602\n",
            "Epoch 20/100\n",
            "242/242 [==============================] - 0s 2ms/step - loss: 0.6592 - accuracy: 0.6981 - mae: 2.0142 - mse: 8.3814 - val_loss: 0.6509 - val_accuracy: 0.7004 - val_mae: 1.9523 - val_mse: 8.0244\n",
            "Epoch 21/100\n",
            "242/242 [==============================] - 0s 2ms/step - loss: 0.6568 - accuracy: 0.6972 - mae: 1.9801 - mse: 8.0123 - val_loss: 0.6475 - val_accuracy: 0.7009 - val_mae: 1.9766 - val_mse: 8.0096\n",
            "Epoch 22/100\n",
            "242/242 [==============================] - 0s 2ms/step - loss: 0.6575 - accuracy: 0.6975 - mae: 2.0075 - mse: 8.3001 - val_loss: 0.6523 - val_accuracy: 0.6958 - val_mae: 1.9508 - val_mse: 7.7662\n",
            "Epoch 23/100\n",
            "242/242 [==============================] - 0s 2ms/step - loss: 0.6564 - accuracy: 0.6968 - mae: 2.0214 - mse: 8.4594 - val_loss: 0.6496 - val_accuracy: 0.6994 - val_mae: 1.9701 - val_mse: 7.9859\n",
            "Epoch 24/100\n",
            "242/242 [==============================] - 0s 2ms/step - loss: 0.6546 - accuracy: 0.7018 - mae: 2.0082 - mse: 8.2804 - val_loss: 0.6479 - val_accuracy: 0.6952 - val_mae: 1.9292 - val_mse: 7.7240\n",
            "Epoch 25/100\n",
            "242/242 [==============================] - 0s 2ms/step - loss: 0.6539 - accuracy: 0.6990 - mae: 1.9957 - mse: 8.3361 - val_loss: 0.6505 - val_accuracy: 0.6952 - val_mae: 1.9287 - val_mse: 7.8927\n",
            "Epoch 26/100\n",
            "242/242 [==============================] - 0s 2ms/step - loss: 0.6544 - accuracy: 0.7019 - mae: 2.0050 - mse: 8.3713 - val_loss: 0.6510 - val_accuracy: 0.6983 - val_mae: 1.9121 - val_mse: 7.4007\n",
            "Epoch 27/100\n",
            "242/242 [==============================] - 0s 2ms/step - loss: 0.6521 - accuracy: 0.7023 - mae: 1.9945 - mse: 8.2016 - val_loss: 0.6512 - val_accuracy: 0.6932 - val_mae: 1.9399 - val_mse: 7.7746\n",
            "Epoch 28/100\n",
            "242/242 [==============================] - 0s 2ms/step - loss: 0.6562 - accuracy: 0.6993 - mae: 2.0332 - mse: 8.5682 - val_loss: 0.6475 - val_accuracy: 0.7009 - val_mae: 1.9767 - val_mse: 8.1948\n",
            "Epoch 29/100\n",
            "242/242 [==============================] - 0s 2ms/step - loss: 0.6542 - accuracy: 0.7019 - mae: 2.0331 - mse: 8.6062 - val_loss: 0.6522 - val_accuracy: 0.7035 - val_mae: 1.9456 - val_mse: 7.6826\n",
            "Epoch 30/100\n",
            "242/242 [==============================] - 0s 2ms/step - loss: 0.6504 - accuracy: 0.6999 - mae: 2.0514 - mse: 8.7884 - val_loss: 0.6508 - val_accuracy: 0.6958 - val_mae: 1.9445 - val_mse: 7.9971\n",
            "Epoch 31/100\n",
            "242/242 [==============================] - 0s 2ms/step - loss: 0.6470 - accuracy: 0.7054 - mae: 2.0704 - mse: 9.0232 - val_loss: 0.6532 - val_accuracy: 0.6994 - val_mae: 2.0133 - val_mse: 8.4482\n",
            "Epoch 32/100\n",
            "242/242 [==============================] - 0s 2ms/step - loss: 0.6521 - accuracy: 0.6997 - mae: 2.0656 - mse: 8.9429 - val_loss: 0.6507 - val_accuracy: 0.6916 - val_mae: 2.0006 - val_mse: 8.5158\n",
            "Epoch 33/100\n",
            "242/242 [==============================] - 0s 2ms/step - loss: 0.6467 - accuracy: 0.6984 - mae: 2.0762 - mse: 9.0497 - val_loss: 0.6521 - val_accuracy: 0.6958 - val_mae: 2.1210 - val_mse: 9.6137\n",
            "Epoch 34/100\n",
            "242/242 [==============================] - 0s 2ms/step - loss: 0.6455 - accuracy: 0.7019 - mae: 2.0997 - mse: 9.1631 - val_loss: 0.6520 - val_accuracy: 0.6978 - val_mae: 2.0339 - val_mse: 8.7330\n",
            "Epoch 35/100\n",
            "242/242 [==============================] - 0s 2ms/step - loss: 0.6479 - accuracy: 0.7078 - mae: 2.0809 - mse: 9.1566 - val_loss: 0.6538 - val_accuracy: 0.6906 - val_mae: 2.0040 - val_mse: 8.5800\n",
            "Epoch 36/100\n",
            "242/242 [==============================] - 0s 2ms/step - loss: 0.6482 - accuracy: 0.7052 - mae: 2.0627 - mse: 9.0005 - val_loss: 0.6524 - val_accuracy: 0.7045 - val_mae: 2.0006 - val_mse: 8.3394\n",
            "Epoch 37/100\n",
            "242/242 [==============================] - 0s 2ms/step - loss: 0.6434 - accuracy: 0.7024 - mae: 2.0875 - mse: 9.3027 - val_loss: 0.6560 - val_accuracy: 0.6937 - val_mae: 1.9997 - val_mse: 8.6241\n",
            "Epoch 38/100\n",
            "242/242 [==============================] - 0s 2ms/step - loss: 0.6433 - accuracy: 0.7061 - mae: 2.0782 - mse: 9.1383 - val_loss: 0.6536 - val_accuracy: 0.6952 - val_mae: 2.0079 - val_mse: 8.4933\n",
            "Epoch 39/100\n",
            "242/242 [==============================] - 0s 2ms/step - loss: 0.6447 - accuracy: 0.7054 - mae: 2.0966 - mse: 9.2372 - val_loss: 0.6582 - val_accuracy: 0.6896 - val_mae: 2.0506 - val_mse: 8.9264\n",
            "Epoch 40/100\n",
            "242/242 [==============================] - 0s 2ms/step - loss: 0.6451 - accuracy: 0.7067 - mae: 2.1337 - mse: 9.7690 - val_loss: 0.6536 - val_accuracy: 0.6999 - val_mae: 2.0039 - val_mse: 8.4432\n",
            "Epoch 41/100\n",
            "242/242 [==============================] - 0s 2ms/step - loss: 0.6410 - accuracy: 0.7077 - mae: 2.0931 - mse: 9.3992 - val_loss: 0.6547 - val_accuracy: 0.7004 - val_mae: 2.0549 - val_mse: 8.9058\n",
            "Epoch 42/100\n",
            "242/242 [==============================] - 0s 2ms/step - loss: 0.6426 - accuracy: 0.7046 - mae: 2.1022 - mse: 9.4455 - val_loss: 0.6557 - val_accuracy: 0.6952 - val_mae: 2.0636 - val_mse: 9.0720\n",
            "Epoch 43/100\n",
            "242/242 [==============================] - 0s 2ms/step - loss: 0.6404 - accuracy: 0.7085 - mae: 2.1061 - mse: 9.4590 - val_loss: 0.6536 - val_accuracy: 0.6978 - val_mae: 2.0904 - val_mse: 9.3794\n",
            "Epoch 44/100\n",
            "242/242 [==============================] - 0s 2ms/step - loss: 0.6437 - accuracy: 0.7025 - mae: 2.1180 - mse: 9.5855 - val_loss: 0.6538 - val_accuracy: 0.6911 - val_mae: 2.0786 - val_mse: 9.5142\n",
            "Epoch 45/100\n",
            "242/242 [==============================] - 0s 2ms/step - loss: 0.6389 - accuracy: 0.7095 - mae: 2.1314 - mse: 9.6976 - val_loss: 0.6546 - val_accuracy: 0.6958 - val_mae: 2.0321 - val_mse: 8.7002\n",
            "Epoch 46/100\n",
            "242/242 [==============================] - 0s 2ms/step - loss: 0.6385 - accuracy: 0.7050 - mae: 2.1481 - mse: 9.9455 - val_loss: 0.6536 - val_accuracy: 0.6947 - val_mae: 2.0665 - val_mse: 8.9064\n",
            "Epoch 47/100\n",
            "242/242 [==============================] - 0s 2ms/step - loss: 0.6372 - accuracy: 0.7089 - mae: 2.1310 - mse: 9.7276 - val_loss: 0.6535 - val_accuracy: 0.7004 - val_mae: 2.0784 - val_mse: 9.2568\n",
            "Epoch 48/100\n",
            "242/242 [==============================] - 0s 2ms/step - loss: 0.6379 - accuracy: 0.7072 - mae: 2.1529 - mse: 9.9654 - val_loss: 0.6600 - val_accuracy: 0.6885 - val_mae: 2.0517 - val_mse: 8.9755\n",
            "Epoch 49/100\n",
            "242/242 [==============================] - 0s 2ms/step - loss: 0.6409 - accuracy: 0.7072 - mae: 2.1660 - mse: 10.2776 - val_loss: 0.6589 - val_accuracy: 0.6952 - val_mae: 2.1317 - val_mse: 9.7618\n",
            "Epoch 50/100\n",
            "242/242 [==============================] - 0s 2ms/step - loss: 0.6346 - accuracy: 0.7065 - mae: 2.1885 - mse: 10.4643 - val_loss: 0.6573 - val_accuracy: 0.6927 - val_mae: 2.1058 - val_mse: 9.5998\n",
            "Epoch 51/100\n",
            "242/242 [==============================] - 0s 2ms/step - loss: 0.6394 - accuracy: 0.7056 - mae: 2.1988 - mse: 10.5201 - val_loss: 0.6585 - val_accuracy: 0.6885 - val_mae: 2.1255 - val_mse: 9.7403\n",
            "Epoch 52/100\n",
            "242/242 [==============================] - 0s 2ms/step - loss: 0.6334 - accuracy: 0.7068 - mae: 2.1844 - mse: 10.6044 - val_loss: 0.6578 - val_accuracy: 0.6942 - val_mae: 2.1941 - val_mse: 10.8438\n",
            "Epoch 53/100\n",
            "242/242 [==============================] - 0s 2ms/step - loss: 0.6318 - accuracy: 0.7077 - mae: 2.1910 - mse: 10.6270 - val_loss: 0.6571 - val_accuracy: 0.6906 - val_mae: 2.1521 - val_mse: 10.3785\n",
            "Epoch 54/100\n",
            "242/242 [==============================] - 0s 2ms/step - loss: 0.6341 - accuracy: 0.7089 - mae: 2.2059 - mse: 10.9044 - val_loss: 0.6575 - val_accuracy: 0.6947 - val_mae: 2.1194 - val_mse: 9.9315\n",
            "Epoch 55/100\n",
            "242/242 [==============================] - 0s 2ms/step - loss: 0.6341 - accuracy: 0.7047 - mae: 2.1694 - mse: 10.3362 - val_loss: 0.6620 - val_accuracy: 0.6958 - val_mae: 2.1835 - val_mse: 10.6671\n"
          ],
          "name": "stdout"
        }
      ]
    },
    {
      "cell_type": "code",
      "metadata": {
        "colab_type": "code",
        "id": "OYPRUCcpAJKk",
        "outputId": "e6e51a83-9d79-4765-94ed-2b4207178317",
        "colab": {
          "base_uri": "https://localhost:8080/",
          "height": 300
        }
      },
      "source": [
        "plotter = tfdocs.plots.HistoryPlotter(smoothing_std=2)\n",
        "\n",
        "plotter.plot({'Accuracy': history}, metric = \"accuracy\")\n",
        "plt.ylim([0, 1])\n",
        "plt.ylabel('accuracy')"
      ],
      "execution_count": 70,
      "outputs": [
        {
          "output_type": "execute_result",
          "data": {
            "text/plain": [
              "Text(0, 0.5, 'accuracy')"
            ]
          },
          "metadata": {
            "tags": []
          },
          "execution_count": 70
        },
        {
          "output_type": "display_data",
          "data": {
            "image/png": "[encoded data removed]",
            "text/plain": [
              "<Figure size 432x288 with 1 Axes>"
            ]
          },
          "metadata": {
            "tags": [],
            "needs_background": "light"
          }
        }
      ]
    },
    {
      "cell_type": "code",
      "metadata": {
        "id": "X9z6gpk9omgM",
        "colab_type": "code",
        "outputId": "a469414f-cb86-46e2-dc80-469edcaf40b7",
        "colab": {
          "base_uri": "https://localhost:8080/",
          "height": 300
        }
      },
      "source": [
        "plotter = tfdocs.plots.HistoryPlotter(smoothing_std=2)\n",
        "\n",
        "plotter.plot({'Loss': history}, metric = \"loss\")\n",
        "plt.ylim([0, 1])\n",
        "plt.ylabel('loss')"
      ],
      "execution_count": 71,
      "outputs": [
        {
          "output_type": "execute_result",
          "data": {
            "text/plain": [
              "Text(0, 0.5, 'loss')"
            ]
          },
          "metadata": {
            "tags": []
          },
          "execution_count": 71
        },
        {
          "output_type": "display_data",
          "data": {
            "image/png": "[encoded data removed]",
            "text/plain": [
              "<Figure size 432x288 with 1 Axes>"
            ]
          },
          "metadata": {
            "tags": [],
            "needs_background": "light"
          }
        }
      ]
    },
    {
      "cell_type": "code",
      "metadata": {
        "colab_type": "code",
        "id": "6LIX2u0zBm8i",
        "outputId": "866893e3-c2f4-474c-b58c-a74329854048",
        "colab": {
          "base_uri": "https://localhost:8080/",
          "height": 51
        }
      },
      "source": [
        "loss, accuracy ,mae, mse = model.evaluate(X_test, y_test, verbose=2)\n",
        "\n",
        "print(\"Test set loss: {:5.2f} , accuracy: {:5.2f}, mae: {:5.2f}, mse: {:5.2f}  \".format(loss, accuracy, mae, mse))"
      ],
      "execution_count": 72,
      "outputs": [
        {
          "output_type": "stream",
          "text": [
            "76/76 - 0s - loss: 0.6663 - accuracy: 0.6975 - mae: 2.1930 - mse: 10.3988\n",
            "Test set loss:  0.67 , accuracy:  0.70, mae:  2.19, mse: 10.40  \n"
          ],
          "name": "stdout"
        }
      ]
    },
    {
      "cell_type": "code",
      "metadata": {
        "id": "DbXd8FlwoFCw",
        "colab_type": "code",
        "colab": {}
      },
      "source": [
        ""
      ],
      "execution_count": 0,
      "outputs": []
    },
    {
      "cell_type": "markdown",
      "metadata": {
        "id": "Q7wIspfqoK4y",
        "colab_type": "text"
      },
      "source": [
        "**The Classification Report for Model**  precision    recall  f1-score   support"
      ]
    },
    {
      "cell_type": "code",
      "metadata": {
        "id": "TBXGzwg7P5XR",
        "colab_type": "code",
        "outputId": "66dd223c-e706-4dfe-f63e-b5a669e82a91",
        "colab": {
          "base_uri": "https://localhost:8080/",
          "height": 187
        }
      },
      "source": [
        "from sklearn import metrics\n",
        "y_pred = model.predict(X_test)\n",
        "y_pred = np.argmax(y_pred, axis = 1)\n",
        "\n",
        "target_names = ['low', 'medium', 'high']\n",
        "print(metrics.classification_report(y_test, y_pred, digits=3, target_names=target_names))"
      ],
      "execution_count": 77,
      "outputs": [
        {
          "output_type": "stream",
          "text": [
            "              precision    recall  f1-score   support\n",
            "\n",
            "         low      0.741     0.560     0.638       266\n",
            "      medium      0.711     0.759     0.734      1314\n",
            "        high      0.663     0.645     0.654       840\n",
            "\n",
            "    accuracy                          0.698      2420\n",
            "   macro avg      0.705     0.655     0.675      2420\n",
            "weighted avg      0.698     0.698     0.696      2420\n",
            "\n"
          ],
          "name": "stdout"
        }
      ]
    },
    {
      "cell_type": "markdown",
      "metadata": {
        "id": "nWtc-uf5nt2y",
        "colab_type": "text"
      },
      "source": [
        "**The Kappa Score for Model**"
      ]
    },
    {
      "cell_type": "code",
      "metadata": {
        "id": "9mVcQst5kGkL",
        "colab_type": "code",
        "outputId": "f3ce8ef6-021e-4858-ab52-077f6842202d",
        "colab": {
          "base_uri": "https://localhost:8080/",
          "height": 34
        }
      },
      "source": [
        "from sklearn.metrics import confusion_matrix, cohen_kappa_score\n",
        "print('Kappa Score {:5.5f}'.format(cohen_kappa_score(y_test, y_pred, weights='quadratic')))"
      ],
      "execution_count": 80,
      "outputs": [
        {
          "output_type": "stream",
          "text": [
            "Kappa Score 0.58401\n"
          ],
          "name": "stdout"
        }
      ]
    },
    {
      "cell_type": "markdown",
      "metadata": {
        "colab_type": "text",
        "id": "mmPUwtFkBM_t"
      },
      "source": [
        "Code Reference \n",
        "\n",
        "\n",
        "1.   https://www.tensorflow.org/tutorials/keras/regression\n",
        "2.   List item\n",
        "\n"
      ]
    }
  ]
}