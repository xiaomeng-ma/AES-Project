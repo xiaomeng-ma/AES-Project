{
  "nbformat": 4,
  "nbformat_minor": 0,
  "metadata": {
    "colab": {
      "name": "simple_deep_learning_on_toefl_dataset.ipynb",
      "provenance": [],
      "collapsed_sections": []
    },
    "kernelspec": {
      "display_name": "Python 3",
      "language": "python",
      "name": "python3"
    },
    "language_info": {
      "codemirror_mode": {
        "name": "ipython",
        "version": 3
      },
      "file_extension": ".py",
      "mimetype": "text/x-python",
      "name": "python",
      "nbconvert_exporter": "python",
      "pygments_lexer": "ipython3",
      "version": "3.6.5"
    }
  },
  "cells": [
    {
      "cell_type": "code",
      "metadata": {
        "id": "zP33FRUV_t_W",
        "colab_type": "code",
        "colab": {
          "base_uri": "https://localhost:8080/",
          "height": 34
        },
        "outputId": "b070873b-86ce-4790-b661-d3bb6c39daf7"
      },
      "source": [
        "# Use some functions from tensorflow_docs\n",
        "!pip install -q git+https://github.com/tensorflow/docs"
      ],
      "execution_count": 147,
      "outputs": [
        {
          "output_type": "stream",
          "text": [
            "  Building wheel for tensorflow-docs (setup.py) ... \u001b[?25l\u001b[?25hdone\n"
          ],
          "name": "stdout"
        }
      ]
    },
    {
      "cell_type": "code",
      "metadata": {
        "colab_type": "code",
        "id": "SftuBzlcD_kd",
        "colab": {}
      },
      "source": [
        "import matplotlib.pyplot as plt\n",
        "import numpy as np\n",
        "import pandas as pd"
      ],
      "execution_count": 0,
      "outputs": []
    },
    {
      "cell_type": "code",
      "metadata": {
        "colab_type": "code",
        "id": "Qds7KXYCEJVd",
        "outputId": "74c26d09-1601-42a8-b297-5b7e0019786c",
        "colab": {
          "base_uri": "https://localhost:8080/",
          "height": 34
        }
      },
      "source": [
        "import tensorflow as tf\n",
        "\n",
        "from tensorflow import keras\n",
        "from tensorflow.keras import layers\n",
        "\n",
        "print(tf.__version__)"
      ],
      "execution_count": 149,
      "outputs": [
        {
          "output_type": "stream",
          "text": [
            "2.2.0-rc4\n"
          ],
          "name": "stdout"
        }
      ]
    },
    {
      "cell_type": "code",
      "metadata": {
        "colab_type": "code",
        "id": "qDDRfLyUERJu",
        "colab": {}
      },
      "source": [
        "import tensorflow_docs as tfdocs\n",
        "import tensorflow_docs.plots\n",
        "import tensorflow_docs.modeling"
      ],
      "execution_count": 0,
      "outputs": []
    },
    {
      "cell_type": "markdown",
      "metadata": {
        "colab_type": "text",
        "id": "MDxMBv1IFrTO"
      },
      "source": [
        "**Get the data**\n",
        "\n",
        "---\n",
        "\n",
        "\n",
        "Read toefl data from project repositoy"
      ]
    },
    {
      "cell_type": "code",
      "metadata": {
        "colab_type": "code",
        "id": "8mRUaMcxErGU",
        "outputId": "ac10371b-b8b1-4327-904c-253858759683",
        "colab": {
          "base_uri": "https://localhost:8080/",
          "height": 241
        }
      },
      "source": [
        "df = pd.read_csv('https://raw.githubusercontent.com/xiaomeng-ma/AES-Project/master/TOEFL_11/processed_toefl.csv?token=AKHHIKGFAQEH3F5HSPWHYTC6WNOXG')\n",
        "df.head()"
      ],
      "execution_count": 151,
      "outputs": [
        {
          "output_type": "execute_result",
          "data": {
            "text/html": [
              "<div>\n",
              "<style scoped>\n",
              "    .dataframe tbody tr th:only-of-type {\n",
              "        vertical-align: middle;\n",
              "    }\n",
              "\n",
              "    .dataframe tbody tr th {\n",
              "        vertical-align: top;\n",
              "    }\n",
              "\n",
              "    .dataframe thead th {\n",
              "        text-align: right;\n",
              "    }\n",
              "</style>\n",
              "<table border=\"1\" class=\"dataframe\">\n",
              "  <thead>\n",
              "    <tr style=\"text-align: right;\">\n",
              "      <th></th>\n",
              "      <th>Prompt</th>\n",
              "      <th>Language</th>\n",
              "      <th>Score Level</th>\n",
              "      <th>total word</th>\n",
              "      <th>distance</th>\n",
              "      <th>Hpoint</th>\n",
              "      <th>xmin</th>\n",
              "      <th>alpha</th>\n",
              "      <th>mu</th>\n",
              "      <th>sigma</th>\n",
              "      <th>logtrue</th>\n",
              "      <th>file</th>\n",
              "      <th>pl_s</th>\n",
              "      <th>pl_C</th>\n",
              "      <th>pl_R2</th>\n",
              "      <th>log_d</th>\n",
              "      <th>log_m</th>\n",
              "      <th>log_k</th>\n",
              "      <th>log_R2</th>\n",
              "    </tr>\n",
              "  </thead>\n",
              "  <tbody>\n",
              "    <tr>\n",
              "      <th>0</th>\n",
              "      <td>5</td>\n",
              "      <td>6</td>\n",
              "      <td>high</td>\n",
              "      <td>385</td>\n",
              "      <td>6.000000</td>\n",
              "      <td>8</td>\n",
              "      <td>2.0</td>\n",
              "      <td>2.273182</td>\n",
              "      <td>-10.388887</td>\n",
              "      <td>3.025490</td>\n",
              "      <td>0</td>\n",
              "      <td>88</td>\n",
              "      <td>0.626725</td>\n",
              "      <td>27.346485</td>\n",
              "      <td>0.883300</td>\n",
              "      <td>3.478245</td>\n",
              "      <td>0.639538</td>\n",
              "      <td>1.090635</td>\n",
              "      <td>0.869275</td>\n",
              "    </tr>\n",
              "    <tr>\n",
              "      <th>1</th>\n",
              "      <td>5</td>\n",
              "      <td>1</td>\n",
              "      <td>medium</td>\n",
              "      <td>321</td>\n",
              "      <td>11.000000</td>\n",
              "      <td>7</td>\n",
              "      <td>3.0</td>\n",
              "      <td>2.421178</td>\n",
              "      <td>-2.618379</td>\n",
              "      <td>1.817156</td>\n",
              "      <td>0</td>\n",
              "      <td>278</td>\n",
              "      <td>0.720874</td>\n",
              "      <td>31.641664</td>\n",
              "      <td>0.962596</td>\n",
              "      <td>3.573915</td>\n",
              "      <td>0.757765</td>\n",
              "      <td>1.032666</td>\n",
              "      <td>0.951214</td>\n",
              "    </tr>\n",
              "    <tr>\n",
              "      <th>2</th>\n",
              "      <td>0</td>\n",
              "      <td>9</td>\n",
              "      <td>high</td>\n",
              "      <td>363</td>\n",
              "      <td>8.306624</td>\n",
              "      <td>6</td>\n",
              "      <td>2.0</td>\n",
              "      <td>2.398038</td>\n",
              "      <td>-2.825649</td>\n",
              "      <td>1.739209</td>\n",
              "      <td>0</td>\n",
              "      <td>348</td>\n",
              "      <td>0.621470</td>\n",
              "      <td>21.737883</td>\n",
              "      <td>0.965709</td>\n",
              "      <td>3.352892</td>\n",
              "      <td>0.874682</td>\n",
              "      <td>0.849857</td>\n",
              "      <td>0.889519</td>\n",
              "    </tr>\n",
              "    <tr>\n",
              "      <th>3</th>\n",
              "      <td>1</td>\n",
              "      <td>10</td>\n",
              "      <td>medium</td>\n",
              "      <td>362</td>\n",
              "      <td>4.690416</td>\n",
              "      <td>6</td>\n",
              "      <td>5.0</td>\n",
              "      <td>3.410995</td>\n",
              "      <td>0.835672</td>\n",
              "      <td>0.746383</td>\n",
              "      <td>0</td>\n",
              "      <td>666</td>\n",
              "      <td>0.538645</td>\n",
              "      <td>18.320499</td>\n",
              "      <td>0.924139</td>\n",
              "      <td>2.824981</td>\n",
              "      <td>0.296708</td>\n",
              "      <td>1.441791</td>\n",
              "      <td>0.969115</td>\n",
              "    </tr>\n",
              "    <tr>\n",
              "      <th>4</th>\n",
              "      <td>5</td>\n",
              "      <td>8</td>\n",
              "      <td>medium</td>\n",
              "      <td>344</td>\n",
              "      <td>10.630146</td>\n",
              "      <td>7</td>\n",
              "      <td>6.0</td>\n",
              "      <td>3.124099</td>\n",
              "      <td>-0.359383</td>\n",
              "      <td>1.163868</td>\n",
              "      <td>0</td>\n",
              "      <td>733</td>\n",
              "      <td>0.646729</td>\n",
              "      <td>25.998149</td>\n",
              "      <td>0.938335</td>\n",
              "      <td>3.393319</td>\n",
              "      <td>0.638436</td>\n",
              "      <td>1.093227</td>\n",
              "      <td>0.926643</td>\n",
              "    </tr>\n",
              "  </tbody>\n",
              "</table>\n",
              "</div>"
            ],
            "text/plain": [
              "   Prompt  Language Score Level  ...     log_m     log_k    log_R2\n",
              "0       5         6        high  ...  0.639538  1.090635  0.869275\n",
              "1       5         1      medium  ...  0.757765  1.032666  0.951214\n",
              "2       0         9        high  ...  0.874682  0.849857  0.889519\n",
              "3       1        10      medium  ...  0.296708  1.441791  0.969115\n",
              "4       5         8      medium  ...  0.638436  1.093227  0.926643\n",
              "\n",
              "[5 rows x 19 columns]"
            ]
          },
          "metadata": {
            "tags": []
          },
          "execution_count": 151
        }
      ]
    },
    {
      "cell_type": "markdown",
      "metadata": {
        "colab_type": "text",
        "id": "sdxaXajlHQtS"
      },
      "source": [
        "**Convert Target column to numberic**"
      ]
    },
    {
      "cell_type": "code",
      "metadata": {
        "colab_type": "code",
        "id": "zg9amSPhZ_XH",
        "outputId": "7620619d-ef45-4337-fab7-411daef0e801",
        "colab": {
          "base_uri": "https://localhost:8080/",
          "height": 241
        }
      },
      "source": [
        "score_mapping ={\n",
        "    'low':0,\n",
        "    'medium':1,\n",
        "    'high': 2\n",
        "}\n",
        "inv_score_mapping = {v: k for k, v in score_mapping.items()}\n",
        "df['Score Level'] = df['Score Level'].map(score_mapping)\n",
        "df.head()"
      ],
      "execution_count": 152,
      "outputs": [
        {
          "output_type": "execute_result",
          "data": {
            "text/html": [
              "<div>\n",
              "<style scoped>\n",
              "    .dataframe tbody tr th:only-of-type {\n",
              "        vertical-align: middle;\n",
              "    }\n",
              "\n",
              "    .dataframe tbody tr th {\n",
              "        vertical-align: top;\n",
              "    }\n",
              "\n",
              "    .dataframe thead th {\n",
              "        text-align: right;\n",
              "    }\n",
              "</style>\n",
              "<table border=\"1\" class=\"dataframe\">\n",
              "  <thead>\n",
              "    <tr style=\"text-align: right;\">\n",
              "      <th></th>\n",
              "      <th>Prompt</th>\n",
              "      <th>Language</th>\n",
              "      <th>Score Level</th>\n",
              "      <th>total word</th>\n",
              "      <th>distance</th>\n",
              "      <th>Hpoint</th>\n",
              "      <th>xmin</th>\n",
              "      <th>alpha</th>\n",
              "      <th>mu</th>\n",
              "      <th>sigma</th>\n",
              "      <th>logtrue</th>\n",
              "      <th>file</th>\n",
              "      <th>pl_s</th>\n",
              "      <th>pl_C</th>\n",
              "      <th>pl_R2</th>\n",
              "      <th>log_d</th>\n",
              "      <th>log_m</th>\n",
              "      <th>log_k</th>\n",
              "      <th>log_R2</th>\n",
              "    </tr>\n",
              "  </thead>\n",
              "  <tbody>\n",
              "    <tr>\n",
              "      <th>0</th>\n",
              "      <td>5</td>\n",
              "      <td>6</td>\n",
              "      <td>2</td>\n",
              "      <td>385</td>\n",
              "      <td>6.000000</td>\n",
              "      <td>8</td>\n",
              "      <td>2.0</td>\n",
              "      <td>2.273182</td>\n",
              "      <td>-10.388887</td>\n",
              "      <td>3.025490</td>\n",
              "      <td>0</td>\n",
              "      <td>88</td>\n",
              "      <td>0.626725</td>\n",
              "      <td>27.346485</td>\n",
              "      <td>0.883300</td>\n",
              "      <td>3.478245</td>\n",
              "      <td>0.639538</td>\n",
              "      <td>1.090635</td>\n",
              "      <td>0.869275</td>\n",
              "    </tr>\n",
              "    <tr>\n",
              "      <th>1</th>\n",
              "      <td>5</td>\n",
              "      <td>1</td>\n",
              "      <td>1</td>\n",
              "      <td>321</td>\n",
              "      <td>11.000000</td>\n",
              "      <td>7</td>\n",
              "      <td>3.0</td>\n",
              "      <td>2.421178</td>\n",
              "      <td>-2.618379</td>\n",
              "      <td>1.817156</td>\n",
              "      <td>0</td>\n",
              "      <td>278</td>\n",
              "      <td>0.720874</td>\n",
              "      <td>31.641664</td>\n",
              "      <td>0.962596</td>\n",
              "      <td>3.573915</td>\n",
              "      <td>0.757765</td>\n",
              "      <td>1.032666</td>\n",
              "      <td>0.951214</td>\n",
              "    </tr>\n",
              "    <tr>\n",
              "      <th>2</th>\n",
              "      <td>0</td>\n",
              "      <td>9</td>\n",
              "      <td>2</td>\n",
              "      <td>363</td>\n",
              "      <td>8.306624</td>\n",
              "      <td>6</td>\n",
              "      <td>2.0</td>\n",
              "      <td>2.398038</td>\n",
              "      <td>-2.825649</td>\n",
              "      <td>1.739209</td>\n",
              "      <td>0</td>\n",
              "      <td>348</td>\n",
              "      <td>0.621470</td>\n",
              "      <td>21.737883</td>\n",
              "      <td>0.965709</td>\n",
              "      <td>3.352892</td>\n",
              "      <td>0.874682</td>\n",
              "      <td>0.849857</td>\n",
              "      <td>0.889519</td>\n",
              "    </tr>\n",
              "    <tr>\n",
              "      <th>3</th>\n",
              "      <td>1</td>\n",
              "      <td>10</td>\n",
              "      <td>1</td>\n",
              "      <td>362</td>\n",
              "      <td>4.690416</td>\n",
              "      <td>6</td>\n",
              "      <td>5.0</td>\n",
              "      <td>3.410995</td>\n",
              "      <td>0.835672</td>\n",
              "      <td>0.746383</td>\n",
              "      <td>0</td>\n",
              "      <td>666</td>\n",
              "      <td>0.538645</td>\n",
              "      <td>18.320499</td>\n",
              "      <td>0.924139</td>\n",
              "      <td>2.824981</td>\n",
              "      <td>0.296708</td>\n",
              "      <td>1.441791</td>\n",
              "      <td>0.969115</td>\n",
              "    </tr>\n",
              "    <tr>\n",
              "      <th>4</th>\n",
              "      <td>5</td>\n",
              "      <td>8</td>\n",
              "      <td>1</td>\n",
              "      <td>344</td>\n",
              "      <td>10.630146</td>\n",
              "      <td>7</td>\n",
              "      <td>6.0</td>\n",
              "      <td>3.124099</td>\n",
              "      <td>-0.359383</td>\n",
              "      <td>1.163868</td>\n",
              "      <td>0</td>\n",
              "      <td>733</td>\n",
              "      <td>0.646729</td>\n",
              "      <td>25.998149</td>\n",
              "      <td>0.938335</td>\n",
              "      <td>3.393319</td>\n",
              "      <td>0.638436</td>\n",
              "      <td>1.093227</td>\n",
              "      <td>0.926643</td>\n",
              "    </tr>\n",
              "  </tbody>\n",
              "</table>\n",
              "</div>"
            ],
            "text/plain": [
              "   Prompt  Language  Score Level  ...     log_m     log_k    log_R2\n",
              "0       5         6            2  ...  0.639538  1.090635  0.869275\n",
              "1       5         1            1  ...  0.757765  1.032666  0.951214\n",
              "2       0         9            2  ...  0.874682  0.849857  0.889519\n",
              "3       1        10            1  ...  0.296708  1.441791  0.969115\n",
              "4       5         8            1  ...  0.638436  1.093227  0.926643\n",
              "\n",
              "[5 rows x 19 columns]"
            ]
          },
          "metadata": {
            "tags": []
          },
          "execution_count": 152
        }
      ]
    },
    {
      "cell_type": "code",
      "metadata": {
        "colab_type": "code",
        "id": "_tc4I8v8p7Xc",
        "outputId": "ee4208be-dfa0-46ee-a548-d3e1e3c21e97",
        "colab": {
          "base_uri": "https://localhost:8080/",
          "height": 279
        }
      },
      "source": [
        "df['Score Level'].value_counts().plot(kind='bar')"
      ],
      "execution_count": 153,
      "outputs": [
        {
          "output_type": "execute_result",
          "data": {
            "text/plain": [
              "<matplotlib.axes._subplots.AxesSubplot at 0x7f517aeeda58>"
            ]
          },
          "metadata": {
            "tags": []
          },
          "execution_count": 153
        },
        {
          "output_type": "display_data",
          "data": {
            "image/png": "[encoded data removed]",
            "text/plain": [
              "<Figure size 432x288 with 1 Axes>"
            ]
          },
          "metadata": {
            "tags": [],
            "needs_background": "light"
          }
        }
      ]
    },
    {
      "cell_type": "markdown",
      "metadata": {
        "colab_type": "text",
        "id": "LMA5_rrpqPYy"
      },
      "source": [
        "**Divide variables into independent variables and a dependent variable**"
      ]
    },
    {
      "cell_type": "code",
      "metadata": {
        "colab_type": "code",
        "id": "N2IiVDTwlzEO",
        "colab": {}
      },
      "source": [
        "X, y = df.drop(['Score Level'],axis=1), df['Score Level']"
      ],
      "execution_count": 0,
      "outputs": []
    },
    {
      "cell_type": "markdown",
      "metadata": {
        "colab_type": "text",
        "id": "yY-oyNYiHGYQ"
      },
      "source": [
        "**Normalize the data using Standard Scaler**"
      ]
    },
    {
      "cell_type": "code",
      "metadata": {
        "colab_type": "code",
        "id": "cnJQzfzzqOHq",
        "colab": {}
      },
      "source": [
        "from sklearn.preprocessing import StandardScaler\n",
        "standard_scaler = StandardScaler()\n",
        "X = standard_scaler.fit_transform(X)"
      ],
      "execution_count": 0,
      "outputs": []
    },
    {
      "cell_type": "markdown",
      "metadata": {
        "colab_type": "text",
        "id": "j2NUx08gqgQV"
      },
      "source": [
        "**Divide the data into a test and training set**"
      ]
    },
    {
      "cell_type": "code",
      "metadata": {
        "colab_type": "code",
        "id": "Q3zA-z-dqnDW",
        "outputId": "f3f46656-90ae-457d-cc11-c9407b6a60de",
        "colab": {
          "base_uri": "https://localhost:8080/",
          "height": 34
        }
      },
      "source": [
        "from sklearn.model_selection import train_test_split\n",
        "X_train, X_test, y_train, y_test = train_test_split(X, y, test_size=0.20, random_state=123,stratify=y)\n",
        "print(X_train.shape, y_train.shape, X_test.shape, y_test.shape)"
      ],
      "execution_count": 156,
      "outputs": [
        {
          "output_type": "stream",
          "text": [
            "(9678, 18) (9678,) (2420, 18) (2420,)\n"
          ],
          "name": "stdout"
        }
      ]
    },
    {
      "cell_type": "markdown",
      "metadata": {
        "colab_type": "text",
        "id": "wRs3lCoTGTqo"
      },
      "source": [
        "**Define a deep learning model**"
      ]
    },
    {
      "cell_type": "code",
      "metadata": {
        "colab_type": "code",
        "id": "l7nuPTUP31W7",
        "colab": {}
      },
      "source": [
        "model = keras.Sequential([\n",
        "    layers.Dense(1000, activation='relu', input_shape=[X.shape[1]]),\n",
        "    layers.Dense(128, activation='relu'),\n",
        "    layers.Dense(64, activation='relu'),\n",
        "    layers.Dense(32, activation='relu'),\n",
        "    layers.Dense(16, activation='relu'),\n",
        "    layers.Dropout(0.2),\n",
        "    layers.Dense(3)\n",
        "  ])\n",
        "\n",
        "model.compile(optimizer='adam',\n",
        "              loss=tf.keras.losses.SparseCategoricalCrossentropy(from_logits=True),\n",
        "              metrics=['accuracy','mae', 'mse'])\n",
        "\n"
      ],
      "execution_count": 0,
      "outputs": []
    },
    {
      "cell_type": "markdown",
      "metadata": {
        "colab_type": "text",
        "id": "rX5VbgoEGjYZ"
      },
      "source": [
        "**Fit model with Train data with validation split 0.2**"
      ]
    },
    {
      "cell_type": "code",
      "metadata": {
        "colab_type": "code",
        "id": "Ok5xj2hP6v38",
        "outputId": "6281d8f5-e402-427e-ca51-56f7e5c30d32",
        "colab": {
          "base_uri": "https://localhost:8080/",
          "height": 1000
        }
      },
      "source": [
        "# The patience parameter is the amount of epochs to check for improvement\n",
        "early_stop = keras.callbacks.EarlyStopping(monitor='accuracy', patience=10)\n",
        "\n",
        "history = model.fit(X_train, y_train, validation_split = 0.2, callbacks=[early_stop, tfdocs.modeling.EpochDots()], epochs=100)"
      ],
      "execution_count": 158,
      "outputs": [
        {
          "output_type": "stream",
          "text": [
            "Epoch 1/100\n",
            "240/242 [============================>.] - ETA: 0s - loss: 0.7829 - accuracy: 0.6318 - mae: 1.3778 - mse: 3.2556\n",
            "Epoch: 0, accuracy:0.6323,  loss:0.7822,  mae:1.3795,  mse:3.2665,  val_accuracy:0.6663,  val_loss:0.6886,  val_mae:1.3680,  val_mse:3.5639,  \n",
            "242/242 [==============================] - 1s 5ms/step - loss: 0.7822 - accuracy: 0.6323 - mae: 1.3795 - mse: 3.2665 - val_loss: 0.6886 - val_accuracy: 0.6663 - val_mae: 1.3680 - val_mse: 3.5639\n",
            "Epoch 2/100\n",
            "242/242 [==============================] - 1s 4ms/step - loss: 0.7218 - accuracy: 0.6649 - mae: 1.5947 - mse: 4.8362 - val_loss: 0.6702 - val_accuracy: 0.6890 - val_mae: 1.5868 - val_mse: 5.0986\n",
            "Epoch 3/100\n",
            "242/242 [==============================] - 1s 4ms/step - loss: 0.6992 - accuracy: 0.6803 - mae: 1.7613 - mse: 6.4738 - val_loss: 0.6612 - val_accuracy: 0.6885 - val_mae: 1.6761 - val_mse: 5.9922\n",
            "Epoch 4/100\n",
            "242/242 [==============================] - 1s 4ms/step - loss: 0.6928 - accuracy: 0.6810 - mae: 1.8614 - mse: 7.5487 - val_loss: 0.6624 - val_accuracy: 0.6906 - val_mae: 1.7511 - val_mse: 6.6887\n",
            "Epoch 5/100\n",
            "242/242 [==============================] - 1s 4ms/step - loss: 0.6872 - accuracy: 0.6812 - mae: 1.9313 - mse: 8.4542 - val_loss: 0.6758 - val_accuracy: 0.6792 - val_mae: 1.7222 - val_mse: 6.6485\n",
            "Epoch 6/100\n",
            "242/242 [==============================] - 1s 4ms/step - loss: 0.6818 - accuracy: 0.6859 - mae: 1.9845 - mse: 9.1857 - val_loss: 0.6717 - val_accuracy: 0.6906 - val_mae: 1.9867 - val_mse: 9.8819\n",
            "Epoch 7/100\n",
            "242/242 [==============================] - 1s 4ms/step - loss: 0.6837 - accuracy: 0.6811 - mae: 2.0212 - mse: 9.9145 - val_loss: 0.6584 - val_accuracy: 0.6983 - val_mae: 1.9370 - val_mse: 8.9644\n",
            "Epoch 8/100\n",
            "242/242 [==============================] - 1s 5ms/step - loss: 0.6759 - accuracy: 0.6894 - mae: 2.0673 - mse: 10.3998 - val_loss: 0.6654 - val_accuracy: 0.6885 - val_mae: 1.9627 - val_mse: 9.0092\n",
            "Epoch 9/100\n",
            "242/242 [==============================] - 1s 4ms/step - loss: 0.6730 - accuracy: 0.6886 - mae: 2.0709 - mse: 10.6345 - val_loss: 0.6605 - val_accuracy: 0.6880 - val_mae: 1.8153 - val_mse: 7.6997\n",
            "Epoch 10/100\n",
            "242/242 [==============================] - 1s 4ms/step - loss: 0.6708 - accuracy: 0.6921 - mae: 2.1179 - mse: 11.4272 - val_loss: 0.6609 - val_accuracy: 0.6958 - val_mae: 2.1003 - val_mse: 12.2824\n",
            "Epoch 11/100\n",
            "242/242 [==============================] - 1s 4ms/step - loss: 0.6686 - accuracy: 0.6943 - mae: 2.1739 - mse: 12.6181 - val_loss: 0.6764 - val_accuracy: 0.6653 - val_mae: 2.2768 - val_mse: 15.3749\n",
            "Epoch 12/100\n",
            "242/242 [==============================] - 1s 4ms/step - loss: 0.6644 - accuracy: 0.6954 - mae: 2.1454 - mse: 12.7778 - val_loss: 0.6702 - val_accuracy: 0.6921 - val_mae: 2.0679 - val_mse: 11.8200\n",
            "Epoch 13/100\n",
            "242/242 [==============================] - 1s 4ms/step - loss: 0.6643 - accuracy: 0.6944 - mae: 2.2063 - mse: 13.7383 - val_loss: 0.6689 - val_accuracy: 0.6772 - val_mae: 2.1766 - val_mse: 13.6224\n",
            "Epoch 14/100\n",
            "242/242 [==============================] - 1s 4ms/step - loss: 0.6619 - accuracy: 0.6954 - mae: 2.2432 - mse: 14.8488 - val_loss: 0.6612 - val_accuracy: 0.6973 - val_mae: 1.9851 - val_mse: 11.0189\n",
            "Epoch 15/100\n",
            "242/242 [==============================] - 1s 4ms/step - loss: 0.6633 - accuracy: 0.6989 - mae: 2.2443 - mse: 14.5456 - val_loss: 0.6720 - val_accuracy: 0.6829 - val_mae: 2.2042 - val_mse: 15.2779\n",
            "Epoch 16/100\n",
            "242/242 [==============================] - 1s 4ms/step - loss: 0.6531 - accuracy: 0.6970 - mae: 2.3192 - mse: 16.4278 - val_loss: 0.6751 - val_accuracy: 0.6870 - val_mae: 2.4918 - val_mse: 17.9504\n",
            "Epoch 17/100\n",
            "242/242 [==============================] - 1s 4ms/step - loss: 0.6499 - accuracy: 0.6992 - mae: 2.3849 - mse: 18.2391 - val_loss: 0.6693 - val_accuracy: 0.6767 - val_mae: 2.1443 - val_mse: 13.5834\n",
            "Epoch 18/100\n",
            "242/242 [==============================] - 1s 4ms/step - loss: 0.6446 - accuracy: 0.7037 - mae: 2.4284 - mse: 18.9658 - val_loss: 0.6733 - val_accuracy: 0.6854 - val_mae: 2.4065 - val_mse: 16.9995\n",
            "Epoch 19/100\n",
            "242/242 [==============================] - 1s 4ms/step - loss: 0.6422 - accuracy: 0.7032 - mae: 2.4706 - mse: 21.3603 - val_loss: 0.6759 - val_accuracy: 0.6906 - val_mae: 2.3881 - val_mse: 20.7821\n",
            "Epoch 20/100\n",
            "242/242 [==============================] - 1s 4ms/step - loss: 0.6353 - accuracy: 0.7059 - mae: 2.5810 - mse: 22.6590 - val_loss: 0.6749 - val_accuracy: 0.6849 - val_mae: 2.3427 - val_mse: 19.4841\n",
            "Epoch 21/100\n",
            "242/242 [==============================] - 1s 4ms/step - loss: 0.6327 - accuracy: 0.7059 - mae: 2.5856 - mse: 24.8123 - val_loss: 0.6897 - val_accuracy: 0.6927 - val_mae: 2.4311 - val_mse: 22.1220\n",
            "Epoch 22/100\n",
            "242/242 [==============================] - 1s 4ms/step - loss: 0.6267 - accuracy: 0.7083 - mae: 2.6469 - mse: 28.3936 - val_loss: 0.7023 - val_accuracy: 0.6854 - val_mae: 2.7418 - val_mse: 32.8441\n",
            "Epoch 23/100\n",
            "242/242 [==============================] - 1s 4ms/step - loss: 0.6230 - accuracy: 0.7130 - mae: 2.7759 - mse: 30.9942 - val_loss: 0.6960 - val_accuracy: 0.6896 - val_mae: 2.6947 - val_mse: 31.3738\n",
            "Epoch 24/100\n",
            "242/242 [==============================] - 1s 4ms/step - loss: 0.6144 - accuracy: 0.7117 - mae: 2.8543 - mse: 35.6491 - val_loss: 0.6931 - val_accuracy: 0.6870 - val_mae: 2.6583 - val_mse: 25.8364\n",
            "Epoch 25/100\n",
            "242/242 [==============================] - 1s 4ms/step - loss: 0.6112 - accuracy: 0.7102 - mae: 2.9466 - mse: 37.8763 - val_loss: 0.7021 - val_accuracy: 0.6906 - val_mae: 2.7434 - val_mse: 37.3679\n",
            "Epoch 26/100\n",
            "242/242 [==============================] - 1s 4ms/step - loss: 0.6090 - accuracy: 0.7104 - mae: 3.0887 - mse: 40.8020 - val_loss: 0.7180 - val_accuracy: 0.6767 - val_mae: 3.1319 - val_mse: 46.8127\n",
            "Epoch 27/100\n",
            "242/242 [==============================] - 1s 4ms/step - loss: 0.5983 - accuracy: 0.7187 - mae: 3.2720 - mse: 51.2386 - val_loss: 0.7406 - val_accuracy: 0.6885 - val_mae: 3.1619 - val_mse: 45.6890\n",
            "Epoch 28/100\n",
            "242/242 [==============================] - 1s 4ms/step - loss: 0.5950 - accuracy: 0.7193 - mae: 3.3486 - mse: 57.7457 - val_loss: 0.7381 - val_accuracy: 0.6885 - val_mae: 3.2244 - val_mse: 50.9862\n",
            "Epoch 29/100\n",
            "242/242 [==============================] - 1s 4ms/step - loss: 0.5852 - accuracy: 0.7202 - mae: 3.4962 - mse: 67.6963 - val_loss: 0.7235 - val_accuracy: 0.6637 - val_mae: 3.1487 - val_mse: 52.4234\n",
            "Epoch 30/100\n",
            "242/242 [==============================] - 1s 4ms/step - loss: 0.5733 - accuracy: 0.7237 - mae: 3.6276 - mse: 70.7940 - val_loss: 0.7633 - val_accuracy: 0.6705 - val_mae: 3.2777 - val_mse: 52.3528\n",
            "Epoch 31/100\n",
            "242/242 [==============================] - 1s 4ms/step - loss: 0.5706 - accuracy: 0.7285 - mae: 3.7385 - mse: 85.0926 - val_loss: 0.7548 - val_accuracy: 0.6679 - val_mae: 3.5666 - val_mse: 64.4770\n",
            "Epoch 32/100\n",
            "242/242 [==============================] - 1s 4ms/step - loss: 0.5631 - accuracy: 0.7298 - mae: 3.8037 - mse: 82.0788 - val_loss: 0.7731 - val_accuracy: 0.6689 - val_mae: 3.7513 - val_mse: 84.5490\n",
            "Epoch 33/100\n",
            "242/242 [==============================] - 1s 4ms/step - loss: 0.5553 - accuracy: 0.7300 - mae: 4.1264 - mse: 104.2429 - val_loss: 0.7889 - val_accuracy: 0.6751 - val_mae: 4.3792 - val_mse: 106.2564\n",
            "Epoch 34/100\n",
            "242/242 [==============================] - 1s 4ms/step - loss: 0.5547 - accuracy: 0.7313 - mae: 4.2478 - mse: 102.6638 - val_loss: 0.8175 - val_accuracy: 0.6653 - val_mae: 4.4462 - val_mse: 108.7305\n",
            "Epoch 35/100\n",
            "242/242 [==============================] - 1s 4ms/step - loss: 0.5395 - accuracy: 0.7371 - mae: 4.3836 - mse: 110.4342 - val_loss: 0.8346 - val_accuracy: 0.6648 - val_mae: 4.3228 - val_mse: 112.6827\n",
            "Epoch 36/100\n",
            "242/242 [==============================] - 1s 4ms/step - loss: 0.5276 - accuracy: 0.7432 - mae: 4.5415 - mse: 125.7067 - val_loss: 0.8306 - val_accuracy: 0.6570 - val_mae: 4.3980 - val_mse: 110.7254\n",
            "Epoch 37/100\n",
            "242/242 [==============================] - 1s 4ms/step - loss: 0.5179 - accuracy: 0.7494 - mae: 4.6715 - mse: 118.0426 - val_loss: 0.8691 - val_accuracy: 0.6513 - val_mae: 4.6028 - val_mse: 108.5021\n",
            "Epoch 38/100\n",
            "242/242 [==============================] - 1s 4ms/step - loss: 0.5141 - accuracy: 0.7511 - mae: 5.0123 - mse: 159.2539 - val_loss: 0.8523 - val_accuracy: 0.6451 - val_mae: 4.6990 - val_mse: 157.3340\n",
            "Epoch 39/100\n",
            "242/242 [==============================] - 1s 5ms/step - loss: 0.5075 - accuracy: 0.7526 - mae: 5.1241 - mse: 184.9368 - val_loss: 0.9059 - val_accuracy: 0.6519 - val_mae: 5.2811 - val_mse: 165.5379\n",
            "Epoch 40/100\n",
            "242/242 [==============================] - 1s 4ms/step - loss: 0.4872 - accuracy: 0.7626 - mae: 5.4722 - mse: 194.7527 - val_loss: 0.8888 - val_accuracy: 0.6405 - val_mae: 4.9956 - val_mse: 192.6693\n",
            "Epoch 41/100\n",
            "242/242 [==============================] - 1s 4ms/step - loss: 0.4926 - accuracy: 0.7565 - mae: 5.4352 - mse: 182.5447 - val_loss: 0.8885 - val_accuracy: 0.6488 - val_mae: 4.8135 - val_mse: 118.3223\n",
            "Epoch 42/100\n",
            "242/242 [==============================] - 1s 4ms/step - loss: 0.4862 - accuracy: 0.7640 - mae: 5.6759 - mse: 248.9271 - val_loss: 0.9391 - val_accuracy: 0.6539 - val_mae: 5.5198 - val_mse: 192.8766\n",
            "Epoch 43/100\n",
            "242/242 [==============================] - 1s 5ms/step - loss: 0.4648 - accuracy: 0.7759 - mae: 5.7736 - mse: 230.0976 - val_loss: 1.0652 - val_accuracy: 0.6575 - val_mae: 5.8580 - val_mse: 181.8587\n",
            "Epoch 44/100\n",
            "242/242 [==============================] - 1s 5ms/step - loss: 0.4666 - accuracy: 0.7741 - mae: 6.1648 - mse: 249.8770 - val_loss: 1.0044 - val_accuracy: 0.6271 - val_mae: 5.6109 - val_mse: 227.9053\n",
            "Epoch 45/100\n",
            "242/242 [==============================] - 1s 5ms/step - loss: 0.4601 - accuracy: 0.7834 - mae: 6.3810 - mse: 273.0767 - val_loss: 1.0648 - val_accuracy: 0.6550 - val_mae: 6.2514 - val_mse: 229.5001\n",
            "Epoch 46/100\n",
            "242/242 [==============================] - 1s 4ms/step - loss: 0.4445 - accuracy: 0.7874 - mae: 6.6588 - mse: 297.2737 - val_loss: 1.1031 - val_accuracy: 0.6482 - val_mae: 6.2859 - val_mse: 236.2662\n",
            "Epoch 47/100\n",
            "242/242 [==============================] - 1s 5ms/step - loss: 0.4421 - accuracy: 0.7874 - mae: 6.8727 - mse: 350.3239 - val_loss: 1.0622 - val_accuracy: 0.6379 - val_mae: 6.3414 - val_mse: 262.9989\n",
            "Epoch 48/100\n",
            "242/242 [==============================] - 1s 5ms/step - loss: 0.4293 - accuracy: 0.7933 - mae: 6.7929 - mse: 313.0852 - val_loss: 1.2457 - val_accuracy: 0.6374 - val_mae: 7.1125 - val_mse: 303.7784\n",
            "Epoch 49/100\n",
            "242/242 [==============================] - 1s 5ms/step - loss: 0.4294 - accuracy: 0.7958 - mae: 7.1463 - mse: 325.6179 - val_loss: 1.1441 - val_accuracy: 0.6312 - val_mae: 6.7224 - val_mse: 342.6652\n",
            "Epoch 50/100\n",
            "242/242 [==============================] - 1s 4ms/step - loss: 0.4221 - accuracy: 0.8032 - mae: 7.3017 - mse: 364.7671 - val_loss: 1.0925 - val_accuracy: 0.6069 - val_mae: 6.5181 - val_mse: 290.3275\n",
            "Epoch 51/100\n",
            "242/242 [==============================] - 1s 5ms/step - loss: 0.4358 - accuracy: 0.7999 - mae: 7.0197 - mse: 334.0508 - val_loss: 1.1671 - val_accuracy: 0.6322 - val_mae: 6.2270 - val_mse: 195.6861\n",
            "Epoch 52/100\n",
            "242/242 [==============================] - 1s 5ms/step - loss: 0.4030 - accuracy: 0.8121 - mae: 7.2887 - mse: 330.8987 - val_loss: 1.2731 - val_accuracy: 0.6467 - val_mae: 6.9175 - val_mse: 282.2645\n",
            "Epoch 53/100\n",
            "242/242 [==============================] - 1s 5ms/step - loss: 0.4121 - accuracy: 0.8119 - mae: 7.1706 - mse: 298.0489 - val_loss: 1.1909 - val_accuracy: 0.6322 - val_mae: 6.5403 - val_mse: 219.9736\n",
            "Epoch 54/100\n",
            "242/242 [==============================] - 1s 4ms/step - loss: 0.3990 - accuracy: 0.8177 - mae: 7.2770 - mse: 362.7187 - val_loss: 1.1679 - val_accuracy: 0.6276 - val_mae: 6.5036 - val_mse: 280.6192\n",
            "Epoch 55/100\n",
            "242/242 [==============================] - 1s 5ms/step - loss: 0.3981 - accuracy: 0.8141 - mae: 7.1933 - mse: 289.3531 - val_loss: 1.2667 - val_accuracy: 0.6322 - val_mae: 7.4473 - val_mse: 267.3225\n",
            "Epoch 56/100\n",
            "242/242 [==============================] - 1s 4ms/step - loss: 0.3779 - accuracy: 0.8283 - mae: 7.6838 - mse: 402.4998 - val_loss: 1.4073 - val_accuracy: 0.6276 - val_mae: 8.1538 - val_mse: 624.1759\n",
            "Epoch 57/100\n",
            "242/242 [==============================] - 1s 5ms/step - loss: 0.3625 - accuracy: 0.8360 - mae: 8.2759 - mse: 638.7471 - val_loss: 1.4969 - val_accuracy: 0.6431 - val_mae: 8.2967 - val_mse: 499.5633\n",
            "Epoch 58/100\n",
            "242/242 [==============================] - 1s 5ms/step - loss: 0.3706 - accuracy: 0.8332 - mae: 8.3726 - mse: 661.3134 - val_loss: 1.3609 - val_accuracy: 0.6255 - val_mae: 8.1653 - val_mse: 534.8494\n",
            "Epoch 59/100\n",
            "242/242 [==============================] - 1s 5ms/step - loss: 0.3692 - accuracy: 0.8352 - mae: 8.2333 - mse: 632.7365 - val_loss: 1.3172 - val_accuracy: 0.6126 - val_mae: 7.8818 - val_mse: 617.0431\n",
            "Epoch 60/100\n",
            "242/242 [==============================] - 1s 5ms/step - loss: 0.3554 - accuracy: 0.8404 - mae: 8.4309 - mse: 584.3377 - val_loss: 1.4869 - val_accuracy: 0.6229 - val_mae: 7.4451 - val_mse: 524.2521\n",
            "Epoch 61/100\n",
            "242/242 [==============================] - 1s 5ms/step - loss: 0.3547 - accuracy: 0.8433 - mae: 8.6391 - mse: 668.2262 - val_loss: 1.4486 - val_accuracy: 0.6317 - val_mae: 8.1628 - val_mse: 507.9574\n",
            "Epoch 62/100\n",
            "242/242 [==============================] - 1s 5ms/step - loss: 0.3411 - accuracy: 0.8500 - mae: 8.6792 - mse: 711.9177 - val_loss: 1.5539 - val_accuracy: 0.6193 - val_mae: 8.0921 - val_mse: 528.5440\n",
            "Epoch 63/100\n",
            "242/242 [==============================] - 1s 5ms/step - loss: 0.3556 - accuracy: 0.8419 - mae: 8.9229 - mse: 788.7437 - val_loss: 1.4957 - val_accuracy: 0.6369 - val_mae: 9.2220 - val_mse: 621.8684\n",
            "Epoch 64/100\n",
            "242/242 [==============================] - 1s 5ms/step - loss: 0.3404 - accuracy: 0.8531 - mae: 9.0125 - mse: 612.6127 - val_loss: 1.6049 - val_accuracy: 0.6276 - val_mae: 8.6190 - val_mse: 558.6993\n",
            "Epoch 65/100\n",
            "242/242 [==============================] - 1s 5ms/step - loss: 0.3396 - accuracy: 0.8476 - mae: 8.8286 - mse: 601.1500 - val_loss: 1.6081 - val_accuracy: 0.6286 - val_mae: 8.4684 - val_mse: 627.6363\n",
            "Epoch 66/100\n",
            "242/242 [==============================] - 1s 5ms/step - loss: 0.3180 - accuracy: 0.8618 - mae: 9.6255 - mse: 725.4944 - val_loss: 1.5034 - val_accuracy: 0.6090 - val_mae: 9.1702 - val_mse: 707.4922\n",
            "Epoch 67/100\n",
            "242/242 [==============================] - 1s 5ms/step - loss: 0.3282 - accuracy: 0.8583 - mae: 9.5980 - mse: 727.9118 - val_loss: 1.6395 - val_accuracy: 0.6260 - val_mae: 9.2255 - val_mse: 603.4603\n",
            "Epoch 68/100\n",
            "242/242 [==============================] - 1s 5ms/step - loss: 0.3263 - accuracy: 0.8575 - mae: 9.8356 - mse: 818.5060 - val_loss: 1.7180 - val_accuracy: 0.6209 - val_mae: 9.0062 - val_mse: 706.8013\n",
            "Epoch 69/100\n",
            "242/242 [==============================] - 1s 4ms/step - loss: 0.3215 - accuracy: 0.8609 - mae: 9.5966 - mse: 804.0439 - val_loss: 1.8664 - val_accuracy: 0.6260 - val_mae: 9.3297 - val_mse: 693.4894\n",
            "Epoch 70/100\n",
            "242/242 [==============================] - 1s 5ms/step - loss: 0.3184 - accuracy: 0.8645 - mae: 9.7090 - mse: 819.4834 - val_loss: 1.9122 - val_accuracy: 0.6147 - val_mae: 9.9006 - val_mse: 854.7662\n",
            "Epoch 71/100\n",
            "242/242 [==============================] - 1s 5ms/step - loss: 0.3123 - accuracy: 0.8671 - mae: 9.7789 - mse: 903.5229 - val_loss: 1.8638 - val_accuracy: 0.6214 - val_mae: 8.3740 - val_mse: 620.7364\n",
            "Epoch 72/100\n",
            "242/242 [==============================] - 1s 5ms/step - loss: 0.2998 - accuracy: 0.8675 - mae: 9.7667 - mse: 739.2797 - val_loss: 2.0455 - val_accuracy: 0.6415 - val_mae: 9.8402 - val_mse: 690.4777\n",
            "Epoch 73/100\n",
            "242/242 [==============================] - 1s 4ms/step - loss: 0.3072 - accuracy: 0.8703 - mae: 9.6944 - mse: 663.1335 - val_loss: 1.8586 - val_accuracy: 0.6219 - val_mae: 8.8748 - val_mse: 494.5733\n",
            "Epoch 74/100\n",
            "242/242 [==============================] - 1s 5ms/step - loss: 0.2913 - accuracy: 0.8741 - mae: 10.0662 - mse: 695.9910 - val_loss: 2.1483 - val_accuracy: 0.6100 - val_mae: 9.6722 - val_mse: 669.3046\n",
            "Epoch 75/100\n",
            "242/242 [==============================] - 1s 5ms/step - loss: 0.3023 - accuracy: 0.8714 - mae: 10.4530 - mse: 844.1165 - val_loss: 1.9558 - val_accuracy: 0.6157 - val_mae: 9.1407 - val_mse: 617.8290\n",
            "Epoch 76/100\n",
            "242/242 [==============================] - 1s 5ms/step - loss: 0.2923 - accuracy: 0.8791 - mae: 10.3599 - mse: 934.9911 - val_loss: 2.0410 - val_accuracy: 0.6178 - val_mae: 9.7367 - val_mse: 757.2496\n",
            "Epoch 77/100\n",
            "242/242 [==============================] - 1s 5ms/step - loss: 0.3049 - accuracy: 0.8732 - mae: 10.1315 - mse: 814.6473 - val_loss: 2.1573 - val_accuracy: 0.6379 - val_mae: 10.3684 - val_mse: 681.6442\n",
            "Epoch 78/100\n",
            "242/242 [==============================] - 1s 5ms/step - loss: 0.3089 - accuracy: 0.8680 - mae: 10.1648 - mse: 710.1037 - val_loss: 1.9613 - val_accuracy: 0.6105 - val_mae: 9.6795 - val_mse: 780.8878\n",
            "Epoch 79/100\n",
            "242/242 [==============================] - 1s 5ms/step - loss: 0.2728 - accuracy: 0.8848 - mae: 10.6366 - mse: 1062.6121 - val_loss: 2.0777 - val_accuracy: 0.6219 - val_mae: 10.3061 - val_mse: 786.9632\n",
            "Epoch 80/100\n",
            "242/242 [==============================] - 1s 5ms/step - loss: 0.2702 - accuracy: 0.8911 - mae: 11.0871 - mse: 1035.4482 - val_loss: 2.0062 - val_accuracy: 0.6100 - val_mae: 10.7818 - val_mse: 924.4833\n",
            "Epoch 81/100\n",
            "242/242 [==============================] - 1s 5ms/step - loss: 0.2751 - accuracy: 0.8848 - mae: 11.0857 - mse: 1146.4651 - val_loss: 2.0900 - val_accuracy: 0.6204 - val_mae: 11.0731 - val_mse: 1074.6825\n",
            "Epoch 82/100\n",
            "242/242 [==============================] - 1s 4ms/step - loss: 0.2699 - accuracy: 0.8866 - mae: 11.3669 - mse: 1280.9049 - val_loss: 2.2960 - val_accuracy: 0.6271 - val_mae: 10.6343 - val_mse: 867.4666\n",
            "Epoch 83/100\n",
            "242/242 [==============================] - 1s 5ms/step - loss: 0.2697 - accuracy: 0.8884 - mae: 10.7981 - mse: 966.4896 - val_loss: 2.1943 - val_accuracy: 0.6147 - val_mae: 11.5877 - val_mse: 1086.9863\n",
            "Epoch 84/100\n",
            "242/242 [==============================] - 1s 5ms/step - loss: 0.2616 - accuracy: 0.8921 - mae: 10.8770 - mse: 1058.5597 - val_loss: 1.9924 - val_accuracy: 0.6116 - val_mae: 9.8397 - val_mse: 832.7416\n",
            "Epoch 85/100\n",
            "242/242 [==============================] - 1s 5ms/step - loss: 0.2812 - accuracy: 0.8826 - mae: 10.5581 - mse: 956.9045 - val_loss: 2.0899 - val_accuracy: 0.6167 - val_mae: 10.0700 - val_mse: 922.9171\n",
            "Epoch 86/100\n",
            "242/242 [==============================] - 1s 5ms/step - loss: 0.2475 - accuracy: 0.8987 - mae: 11.2251 - mse: 1220.2112 - val_loss: 2.2682 - val_accuracy: 0.6167 - val_mae: 10.0747 - val_mse: 787.5784\n",
            "Epoch 87/100\n",
            "242/242 [==============================] - 1s 5ms/step - loss: 0.2612 - accuracy: 0.8943 - mae: 11.3386 - mse: 1113.1687 - val_loss: 2.1879 - val_accuracy: 0.6302 - val_mae: 10.8098 - val_mse: 1222.7115\n",
            "Epoch 88/100\n",
            "242/242 [==============================] - 1s 4ms/step - loss: 0.2724 - accuracy: 0.8867 - mae: 11.1308 - mse: 1213.6952 - val_loss: 2.3174 - val_accuracy: 0.6271 - val_mae: 10.4600 - val_mse: 894.5423\n",
            "Epoch 89/100\n",
            "242/242 [==============================] - 1s 5ms/step - loss: 0.2597 - accuracy: 0.8936 - mae: 10.7060 - mse: 781.8497 - val_loss: 2.4347 - val_accuracy: 0.6260 - val_mae: 10.4926 - val_mse: 809.9660\n",
            "Epoch 90/100\n",
            "242/242 [==============================] - 1s 4ms/step - loss: 0.2633 - accuracy: 0.8956 - mae: 10.5550 - mse: 830.0780 - val_loss: 2.3160 - val_accuracy: 0.6271 - val_mae: 10.4981 - val_mse: 880.4587\n",
            "Epoch 91/100\n",
            "242/242 [==============================] - 1s 4ms/step - loss: 0.2297 - accuracy: 0.9071 - mae: 11.3395 - mse: 1125.5649 - val_loss: 2.3390 - val_accuracy: 0.6111 - val_mae: 10.0255 - val_mse: 880.6448\n",
            "Epoch 92/100\n",
            "242/242 [==============================] - 1s 5ms/step - loss: 0.2328 - accuracy: 0.9080 - mae: 11.6047 - mse: 1080.2555 - val_loss: 2.2803 - val_accuracy: 0.6136 - val_mae: 10.5811 - val_mse: 781.5464\n",
            "Epoch 93/100\n",
            "242/242 [==============================] - 1s 5ms/step - loss: 0.2481 - accuracy: 0.9035 - mae: 11.1576 - mse: 993.4586 - val_loss: 2.4744 - val_accuracy: 0.6250 - val_mae: 11.6421 - val_mse: 1431.2059\n",
            "Epoch 94/100\n",
            "242/242 [==============================] - 1s 5ms/step - loss: 0.2406 - accuracy: 0.9036 - mae: 11.6752 - mse: 1132.5126 - val_loss: 2.1768 - val_accuracy: 0.6178 - val_mae: 11.0302 - val_mse: 963.2385\n",
            "Epoch 95/100\n",
            "242/242 [==============================] - 1s 5ms/step - loss: 0.2437 - accuracy: 0.9034 - mae: 11.0676 - mse: 828.4653 - val_loss: 2.5068 - val_accuracy: 0.6302 - val_mae: 11.1569 - val_mse: 828.3935\n",
            "Epoch 96/100\n",
            "242/242 [==============================] - 1s 4ms/step - loss: 0.2347 - accuracy: 0.9070 - mae: 11.5315 - mse: 1055.8616 - val_loss: 2.3418 - val_accuracy: 0.6085 - val_mae: 10.7262 - val_mse: 960.2368\n",
            "Epoch 97/100\n",
            "242/242 [==============================] - 1s 4ms/step - loss: 0.2446 - accuracy: 0.9035 - mae: 11.2779 - mse: 955.1505 - val_loss: 2.2276 - val_accuracy: 0.6090 - val_mae: 9.5661 - val_mse: 663.4567\n",
            "Epoch 98/100\n",
            "242/242 [==============================] - 1s 5ms/step - loss: 0.2270 - accuracy: 0.9115 - mae: 11.2973 - mse: 914.1193 - val_loss: 2.3483 - val_accuracy: 0.6178 - val_mae: 11.1372 - val_mse: 847.1224\n",
            "Epoch 99/100\n",
            "242/242 [==============================] - 1s 5ms/step - loss: 0.2253 - accuracy: 0.9132 - mae: 11.6383 - mse: 1144.6823 - val_loss: 2.5762 - val_accuracy: 0.6116 - val_mae: 10.4263 - val_mse: 689.7910\n",
            "Epoch 100/100\n",
            "242/242 [==============================] - 1s 4ms/step - loss: 0.2167 - accuracy: 0.9140 - mae: 11.9342 - mse: 1047.0371 - val_loss: 2.7579 - val_accuracy: 0.6198 - val_mae: 11.5169 - val_mse: 863.9096\n"
          ],
          "name": "stdout"
        }
      ]
    },
    {
      "cell_type": "code",
      "metadata": {
        "colab_type": "code",
        "id": "OYPRUCcpAJKk",
        "outputId": "e2b84c72-22c2-49c5-f500-ceb965cc43d0",
        "colab": {
          "base_uri": "https://localhost:8080/",
          "height": 300
        }
      },
      "source": [
        "plotter = tfdocs.plots.HistoryPlotter(smoothing_std=2)\n",
        "\n",
        "plotter.plot({'Accuracy': history}, metric = \"accuracy\")\n",
        "plt.ylim([0, 1])\n",
        "plt.ylabel('accuracy')"
      ],
      "execution_count": 159,
      "outputs": [
        {
          "output_type": "execute_result",
          "data": {
            "text/plain": [
              "Text(0, 0.5, 'accuracy')"
            ]
          },
          "metadata": {
            "tags": []
          },
          "execution_count": 159
        },
        {
          "output_type": "display_data",
          "data": {
            "image/png": "[encoded data removed]",
            "text/plain": [
              "<Figure size 432x288 with 1 Axes>"
            ]
          },
          "metadata": {
            "tags": [],
            "needs_background": "light"
          }
        }
      ]
    },
    {
      "cell_type": "code",
      "metadata": {
        "id": "X9z6gpk9omgM",
        "colab_type": "code",
        "colab": {
          "base_uri": "https://localhost:8080/",
          "height": 300
        },
        "outputId": "a92ac68e-0009-409c-d802-235ead624fa2"
      },
      "source": [
        "plotter = tfdocs.plots.HistoryPlotter(smoothing_std=2)\n",
        "\n",
        "plotter.plot({'Loss': history}, metric = \"loss\")\n",
        "plt.ylim([0, 1])\n",
        "plt.ylabel('loss')"
      ],
      "execution_count": 160,
      "outputs": [
        {
          "output_type": "execute_result",
          "data": {
            "text/plain": [
              "Text(0, 0.5, 'loss')"
            ]
          },
          "metadata": {
            "tags": []
          },
          "execution_count": 160
        },
        {
          "output_type": "display_data",
          "data": {
            "image/png": "[encoded data removed]",
            "text/plain": [
              "<Figure size 432x288 with 1 Axes>"
            ]
          },
          "metadata": {
            "tags": [],
            "needs_background": "light"
          }
        }
      ]
    },
    {
      "cell_type": "code",
      "metadata": {
        "colab_type": "code",
        "id": "6LIX2u0zBm8i",
        "outputId": "b2e80d30-dab8-4bc8-fde6-b9cd44d1a81f",
        "colab": {
          "base_uri": "https://localhost:8080/",
          "height": 51
        }
      },
      "source": [
        "loss, accuracy ,mae, mse = model.evaluate(X_test, y_test, verbose=2)\n",
        "\n",
        "print(\"Test set loss: {:5.2f} , accuracy: {:5.2f}, mae: {:5.2f}, mse: {:5.2f}  \".format(loss, accuracy, mae, mse))"
      ],
      "execution_count": 161,
      "outputs": [
        {
          "output_type": "stream",
          "text": [
            "76/76 - 0s - loss: 2.8438 - accuracy: 0.6401 - mae: 11.3527 - mse: 568.4963\n",
            "Test set loss:  2.84 , accuracy:  0.64, mae: 11.35, mse: 568.50  \n"
          ],
          "name": "stdout"
        }
      ]
    },
    {
      "cell_type": "code",
      "metadata": {
        "id": "DbXd8FlwoFCw",
        "colab_type": "code",
        "colab": {}
      },
      "source": [
        ""
      ],
      "execution_count": 0,
      "outputs": []
    },
    {
      "cell_type": "markdown",
      "metadata": {
        "id": "Q7wIspfqoK4y",
        "colab_type": "text"
      },
      "source": [
        "**The Classification Report for Model**  precision    recall  f1-score   support"
      ]
    },
    {
      "cell_type": "code",
      "metadata": {
        "id": "TBXGzwg7P5XR",
        "colab_type": "code",
        "colab": {
          "base_uri": "https://localhost:8080/",
          "height": 187
        },
        "outputId": "88cc550f-6908-4375-cc80-fd6f81f6119d"
      },
      "source": [
        "from sklearn import metrics\n",
        "y_pred = model.predict(X_test)\n",
        "y_pred = np.argmax(y_pred, axis = 1)\n",
        "\n",
        "target_names = ['low', 'medium', 'high']\n",
        "print(metrics.classification_report(y_test, y_pred, digits=3, target_names=target_names))"
      ],
      "execution_count": 162,
      "outputs": [
        {
          "output_type": "stream",
          "text": [
            "              precision    recall  f1-score   support\n",
            "\n",
            "         low      0.607     0.523     0.562       266\n",
            "      medium      0.675     0.676     0.676      1314\n",
            "        high      0.596     0.621     0.608       840\n",
            "\n",
            "    accuracy                          0.640      2420\n",
            "   macro avg      0.626     0.607     0.615      2420\n",
            "weighted avg      0.640     0.640     0.640      2420\n",
            "\n"
          ],
          "name": "stdout"
        }
      ]
    },
    {
      "cell_type": "markdown",
      "metadata": {
        "id": "nWtc-uf5nt2y",
        "colab_type": "text"
      },
      "source": [
        "**The Kappa Score for Model**"
      ]
    },
    {
      "cell_type": "code",
      "metadata": {
        "id": "9mVcQst5kGkL",
        "colab_type": "code",
        "colab": {
          "base_uri": "https://localhost:8080/",
          "height": 34
        },
        "outputId": "0cf55ebe-9d2c-4a67-fc50-bc974cd187df"
      },
      "source": [
        "from sklearn.metrics import confusion_matrix, cohen_kappa_score\n",
        "print('Kappa Score {:5.5f}'.format(cohen_kappa_score(y_test, y_pred, weights='quadratic')))"
      ],
      "execution_count": 163,
      "outputs": [
        {
          "output_type": "stream",
          "text": [
            "Kappa Score 0.36735\n"
          ],
          "name": "stdout"
        }
      ]
    },
    {
      "cell_type": "markdown",
      "metadata": {
        "colab_type": "text",
        "id": "mmPUwtFkBM_t"
      },
      "source": [
        "Code Reference \n",
        "\n",
        "\n",
        "1.   https://www.tensorflow.org/tutorials/keras/regression\n",
        "2.   List item\n",
        "\n"
      ]
    }
  ]
}