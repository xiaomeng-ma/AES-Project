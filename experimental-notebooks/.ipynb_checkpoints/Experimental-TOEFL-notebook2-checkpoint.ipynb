{
 "cells": [
  {
   "cell_type": "code",
   "execution_count": 173,
   "metadata": {},
   "outputs": [],
   "source": [
    "import os\n",
    "import tensorflow as tf\n",
    "import matplotlib.pyplot as plt\n",
    "def plot_graphs(history, metric):\n",
    "    plt.plot(history.history[metric])\n",
    "    plt.plot(history.history['val_'+metric], '')\n",
    "    plt.xlabel(\"Epochs\")\n",
    "    plt.ylabel(metric)\n",
    "    plt.legend([metric, 'val_'+metric])\n",
    "    plt.show()\n",
    "from nltk.corpus import PlaintextCorpusReader\n",
    "from nltk.corpus.reader import CHILDESCorpusReader\n",
    "import numpy as np\n",
    "import pandas as pd\n",
    "from pandas import DataFrame\n",
    "from nltk.probability import FreqDist\n",
    "\n",
    "from nltk.stem.wordnet import WordNetLemmatizer\n",
    "\n",
    "import matplotlib.pyplot as plt\n",
    "from scipy import stats\n",
    "import itertools\n",
    "\n",
    "from scipy import optimize\n",
    "from scipy.optimize import curve_fit\n",
    "import seaborn as sns\n",
    "import matplotlib.pyplot as plt\n",
    "from numpy import log as ln\n",
    "\n",
    "import powerlaw\n",
    "\n",
    "import numpy\n",
    "import math\n",
    "\n",
    "from tensorflow.keras.preprocessing.text import Tokenizer\n",
    "from tensorflow.keras.preprocessing.sequence import pad_sequences\n",
    "from nltk.corpus import stopwords\n",
    "\n",
    "import tensorflow as tf\n",
    "\n",
    "import matplotlib.pyplot as plt\n",
    "import matplotlib.ticker as ticker\n",
    "from sklearn.model_selection import StratifiedKFold,train_test_split\n",
    "\n",
    "\n",
    "from tensorflow import keras\n",
    "from tensorflow.keras import layers\n",
    "import tensorflow_docs as tfdocs\n",
    "import tensorflow_docs.plots\n",
    "import tensorflow_docs.modeling\n",
    "\n",
    "from tqdm import tqdm_notebook as tqdm"
   ]
  },
  {
   "cell_type": "code",
   "execution_count": 49,
   "metadata": {},
   "outputs": [],
   "source": [
    "def PromptN(X):\n",
    "    f = open('/Users/Ershui13/Desktop/AES-Project/TOEFL_11/prompts/{}.txt'.format(X),'r')\n",
    "    P = f.read().split('\\n')[2]\n",
    "    return P\n",
    "### All the Prompts start with the same sentence and end with the same sentence too. \n",
    "### The only informative one is the middle one.\n",
    "def Essay(X):\n",
    "    f = open('/Users/Ershui13/Desktop/AES-Project/TOEFL_11/essays/{}'.format(X),'r')\n",
    "    E = f.read()\n",
    "    return E"
   ]
  },
  {
   "cell_type": "code",
   "execution_count": 45,
   "metadata": {},
   "outputs": [],
   "source": [
    "prompts = ['P1','P2','P3','P4','P5','P6','P7','P8']\n",
    "data_index = pd.read_csv('/Users/Ershui13/Desktop/AES-Project/TOEFL_11/index.csv')\n",
    "data_index['Prompt_text'] = ''\n",
    "for i in prompts:\n",
    "    data_index.loc[(data_index['Prompt'] == i), 'Prompt_text'] = PromptN(i)"
   ]
  },
  {
   "cell_type": "code",
   "execution_count": 50,
   "metadata": {},
   "outputs": [],
   "source": [
    "data_index['Essay'] = ''\n",
    "for i in data_index['Filename']:\n",
    "    data_index.loc[(data_index['Filename'] == i), 'Essay'] = Essay(i)"
   ]
  },
  {
   "cell_type": "code",
   "execution_count": 53,
   "metadata": {},
   "outputs": [],
   "source": [
    "data_index.to_csv('Essay_list.csv')"
   ]
  },
  {
   "cell_type": "code",
   "execution_count": 52,
   "metadata": {},
   "outputs": [
    {
     "data": {
      "text/html": [
       "<div>\n",
       "<style scoped>\n",
       "    .dataframe tbody tr th:only-of-type {\n",
       "        vertical-align: middle;\n",
       "    }\n",
       "\n",
       "    .dataframe tbody tr th {\n",
       "        vertical-align: top;\n",
       "    }\n",
       "\n",
       "    .dataframe thead th {\n",
       "        text-align: right;\n",
       "    }\n",
       "</style>\n",
       "<table border=\"1\" class=\"dataframe\">\n",
       "  <thead>\n",
       "    <tr style=\"text-align: right;\">\n",
       "      <th></th>\n",
       "      <th>Filename</th>\n",
       "      <th>Prompt</th>\n",
       "      <th>Language</th>\n",
       "      <th>Score Level</th>\n",
       "      <th>Prompt_text</th>\n",
       "      <th>Essay</th>\n",
       "    </tr>\n",
       "  </thead>\n",
       "  <tbody>\n",
       "    <tr>\n",
       "      <td>0</td>\n",
       "      <td>88.txt</td>\n",
       "      <td>P6</td>\n",
       "      <td>KOR</td>\n",
       "      <td>high</td>\n",
       "      <td>The best way to travel is in a group led by a ...</td>\n",
       "      <td>Some people might think that traveling in a gr...</td>\n",
       "    </tr>\n",
       "    <tr>\n",
       "      <td>1</td>\n",
       "      <td>278.txt</td>\n",
       "      <td>P6</td>\n",
       "      <td>DEU</td>\n",
       "      <td>medium</td>\n",
       "      <td>The best way to travel is in a group led by a ...</td>\n",
       "      <td>IThe importance and popularity of travelling i...</td>\n",
       "    </tr>\n",
       "    <tr>\n",
       "      <td>2</td>\n",
       "      <td>348.txt</td>\n",
       "      <td>P1</td>\n",
       "      <td>TUR</td>\n",
       "      <td>high</td>\n",
       "      <td>It is better to have broad knowledge of many a...</td>\n",
       "      <td>It is an important decision, how to plan your ...</td>\n",
       "    </tr>\n",
       "    <tr>\n",
       "      <td>3</td>\n",
       "      <td>666.txt</td>\n",
       "      <td>P2</td>\n",
       "      <td>ZHO</td>\n",
       "      <td>medium</td>\n",
       "      <td>Young people enjoy life more than older people...</td>\n",
       "      <td>Some people believe that young people can enjo...</td>\n",
       "    </tr>\n",
       "    <tr>\n",
       "      <td>4</td>\n",
       "      <td>733.txt</td>\n",
       "      <td>P6</td>\n",
       "      <td>TEL</td>\n",
       "      <td>medium</td>\n",
       "      <td>The best way to travel is in a group led by a ...</td>\n",
       "      <td>Travelling is  usually considered as good recr...</td>\n",
       "    </tr>\n",
       "  </tbody>\n",
       "</table>\n",
       "</div>"
      ],
      "text/plain": [
       "  Filename Prompt Language Score Level  \\\n",
       "0   88.txt     P6      KOR        high   \n",
       "1  278.txt     P6      DEU      medium   \n",
       "2  348.txt     P1      TUR        high   \n",
       "3  666.txt     P2      ZHO      medium   \n",
       "4  733.txt     P6      TEL      medium   \n",
       "\n",
       "                                         Prompt_text  \\\n",
       "0  The best way to travel is in a group led by a ...   \n",
       "1  The best way to travel is in a group led by a ...   \n",
       "2  It is better to have broad knowledge of many a...   \n",
       "3  Young people enjoy life more than older people...   \n",
       "4  The best way to travel is in a group led by a ...   \n",
       "\n",
       "                                               Essay  \n",
       "0  Some people might think that traveling in a gr...  \n",
       "1  IThe importance and popularity of travelling i...  \n",
       "2  It is an important decision, how to plan your ...  \n",
       "3  Some people believe that young people can enjo...  \n",
       "4  Travelling is  usually considered as good recr...  "
      ]
     },
     "execution_count": 52,
     "metadata": {},
     "output_type": "execute_result"
    }
   ],
   "source": [
    "data_index.head()"
   ]
  },
  {
   "cell_type": "code",
   "execution_count": 137,
   "metadata": {},
   "outputs": [],
   "source": [
    "### Transform each word to the frequency-rank in the essay\n",
    "class Encode:\n",
    "    def __init__ (self, E):\n",
    "        self.E = E\n",
    "    def wordlist (self):\n",
    "        elist = []\n",
    "        for i in self.E.split('\\n'):\n",
    "            worlist = tf.keras.preprocessing.text.text_to_word_sequence(\n",
    "    i, filters='!\"#$%&()*+,-./:;<=>?@[\\\\]^_`{|}~\\t\\n', lower=True, split=' ')\n",
    "            elist.append(worlist)\n",
    "            wlist = list(itertools.chain(*elist))\n",
    "        return wlist\n",
    "    def ranklist (self):\n",
    "        elist = []\n",
    "        for i in self.E.split('\\n'):\n",
    "            worlist = tf.keras.preprocessing.text.text_to_word_sequence(\n",
    "    i, filters='!\"#$%&()*+,-./:;<=>?@[\\\\]^_`{|}~\\t\\n', lower=True, split=' ')\n",
    "            elist.append(worlist)\n",
    "        wlist = list(itertools.chain(*elist))\n",
    "        Elist = DataFrame(FreqDist(wlist).most_common())\n",
    "        Elist.columns = ['word','count']\n",
    "        Elist['rank'] = list(range(1,len(Elist)+1))\n",
    "        return Elist\n",
    "    def encode (self):\n",
    "        elist = []\n",
    "        for i in self.E.split('\\n'):\n",
    "            worlist = tf.keras.preprocessing.text.text_to_word_sequence(\n",
    "    i, filters='!\"#$%&()*+,-./:;<=>?@[\\\\]^_`{|}~\\t\\n', lower=True, split=' ')\n",
    "            elist.append(worlist)\n",
    "        wlist = list(itertools.chain(*elist))\n",
    "        Elist = DataFrame(FreqDist(wlist).most_common())\n",
    "        Elist.columns = ['word','count']\n",
    "        Elist['rank'] = list(range(1,len(Elist)+1))        \n",
    "        numlis = []\n",
    "        for i in wlist:\n",
    "            numlis.append(list(Elist.loc[(Elist['word'] == i), 'rank']))\n",
    "        return list(itertools.chain(*numlis))"
   ]
  },
  {
   "cell_type": "code",
   "execution_count": 157,
   "metadata": {},
   "outputs": [
    {
     "data": {
      "application/vnd.jupyter.widget-view+json": {
       "model_id": "52aa590039594a68a46cf9d0dabdebeb",
       "version_major": 2,
       "version_minor": 0
      },
      "text/plain": [
       "HBox(children=(IntProgress(value=0, max=12100), HTML(value='')))"
      ]
     },
     "metadata": {},
     "output_type": "display_data"
    },
    {
     "name": "stdout",
     "output_type": "stream",
     "text": [
      "\n"
     ]
    }
   ],
   "source": [
    "vocablist = []\n",
    "for i in data_index['Essay']:\n",
    "    vocablist.append(Encode(i).wordlist())\n",
    "for x in tqdm(vocablist):\n",
    "    pass"
   ]
  },
  {
   "cell_type": "code",
   "execution_count": 160,
   "metadata": {},
   "outputs": [],
   "source": [
    "vocab = np.array(list(itertools.chain(*vocablist)))"
   ]
  },
  {
   "cell_type": "code",
   "execution_count": 166,
   "metadata": {},
   "outputs": [
    {
     "data": {
      "text/plain": [
       "3831347"
      ]
     },
     "execution_count": 166,
     "metadata": {},
     "output_type": "execute_result"
    }
   ],
   "source": [
    "len(vocab)"
   ]
  },
  {
   "cell_type": "code",
   "execution_count": 165,
   "metadata": {},
   "outputs": [
    {
     "data": {
      "text/plain": [
       "60548"
      ]
     },
     "execution_count": 165,
     "metadata": {},
     "output_type": "execute_result"
    }
   ],
   "source": [
    "##vocab size\n",
    "len(np.unique(vocab))"
   ]
  },
  {
   "cell_type": "code",
   "execution_count": 144,
   "metadata": {},
   "outputs": [],
   "source": [
    "Encodelist = []\n",
    "for i in data_index['Essay']:\n",
    "    Encodelist.append(Encode(i).encode())\n",
    "data_index['Encoded']=Encodelist"
   ]
  },
  {
   "cell_type": "code",
   "execution_count": 182,
   "metadata": {},
   "outputs": [
    {
     "data": {
      "text/html": [
       "<div>\n",
       "<style scoped>\n",
       "    .dataframe tbody tr th:only-of-type {\n",
       "        vertical-align: middle;\n",
       "    }\n",
       "\n",
       "    .dataframe tbody tr th {\n",
       "        vertical-align: top;\n",
       "    }\n",
       "\n",
       "    .dataframe thead th {\n",
       "        text-align: right;\n",
       "    }\n",
       "</style>\n",
       "<table border=\"1\" class=\"dataframe\">\n",
       "  <thead>\n",
       "    <tr style=\"text-align: right;\">\n",
       "      <th></th>\n",
       "      <th>Filename</th>\n",
       "      <th>Prompt</th>\n",
       "      <th>Language</th>\n",
       "      <th>Score Level</th>\n",
       "      <th>Prompt_text</th>\n",
       "      <th>Essay</th>\n",
       "      <th>Encoded</th>\n",
       "      <th>Encoded_Level</th>\n",
       "    </tr>\n",
       "  </thead>\n",
       "  <tbody>\n",
       "    <tr>\n",
       "      <td>0</td>\n",
       "      <td>88.txt</td>\n",
       "      <td>P6</td>\n",
       "      <td>KOR</td>\n",
       "      <td>high</td>\n",
       "      <td>The best way to travel is in a group led by a ...</td>\n",
       "      <td>Some people might think that traveling in a gr...</td>\n",
       "      <td>[34, 9, 69, 70, 16, 71, 7, 3, 8, 24, 11, 3, 5,...</td>\n",
       "      <td>2</td>\n",
       "    </tr>\n",
       "    <tr>\n",
       "      <td>1</td>\n",
       "      <td>278.txt</td>\n",
       "      <td>P6</td>\n",
       "      <td>DEU</td>\n",
       "      <td>medium</td>\n",
       "      <td>The best way to travel is in a group led by a ...</td>\n",
       "      <td>IThe importance and popularity of travelling i...</td>\n",
       "      <td>[50, 51, 9, 52, 35, 53, 6, 54, 55, 56, 6, 57, ...</td>\n",
       "      <td>1</td>\n",
       "    </tr>\n",
       "    <tr>\n",
       "      <td>2</td>\n",
       "      <td>348.txt</td>\n",
       "      <td>P1</td>\n",
       "      <td>TUR</td>\n",
       "      <td>high</td>\n",
       "      <td>It is better to have broad knowledge of many a...</td>\n",
       "      <td>It is an important decision, how to plan your ...</td>\n",
       "      <td>[15, 4, 31, 19, 63, 64, 2, 32, 33, 65, 34, 16,...</td>\n",
       "      <td>2</td>\n",
       "    </tr>\n",
       "    <tr>\n",
       "      <td>3</td>\n",
       "      <td>666.txt</td>\n",
       "      <td>P2</td>\n",
       "      <td>ZHO</td>\n",
       "      <td>medium</td>\n",
       "      <td>Young people enjoy life more than older people...</td>\n",
       "      <td>Some people believe that young people can enjo...</td>\n",
       "      <td>[69, 2, 42, 43, 3, 2, 31, 13, 10, 32, 21, 6, 7...</td>\n",
       "      <td>1</td>\n",
       "    </tr>\n",
       "    <tr>\n",
       "      <td>4</td>\n",
       "      <td>733.txt</td>\n",
       "      <td>P6</td>\n",
       "      <td>TEL</td>\n",
       "      <td>medium</td>\n",
       "      <td>The best way to travel is in a group led by a ...</td>\n",
       "      <td>Travelling is  usually considered as good recr...</td>\n",
       "      <td>[9, 12, 35, 53, 36, 54, 55, 16, 37, 13, 36, 37...</td>\n",
       "      <td>1</td>\n",
       "    </tr>\n",
       "  </tbody>\n",
       "</table>\n",
       "</div>"
      ],
      "text/plain": [
       "  Filename Prompt Language Score Level  \\\n",
       "0   88.txt     P6      KOR        high   \n",
       "1  278.txt     P6      DEU      medium   \n",
       "2  348.txt     P1      TUR        high   \n",
       "3  666.txt     P2      ZHO      medium   \n",
       "4  733.txt     P6      TEL      medium   \n",
       "\n",
       "                                         Prompt_text  \\\n",
       "0  The best way to travel is in a group led by a ...   \n",
       "1  The best way to travel is in a group led by a ...   \n",
       "2  It is better to have broad knowledge of many a...   \n",
       "3  Young people enjoy life more than older people...   \n",
       "4  The best way to travel is in a group led by a ...   \n",
       "\n",
       "                                               Essay  \\\n",
       "0  Some people might think that traveling in a gr...   \n",
       "1  IThe importance and popularity of travelling i...   \n",
       "2  It is an important decision, how to plan your ...   \n",
       "3  Some people believe that young people can enjo...   \n",
       "4  Travelling is  usually considered as good recr...   \n",
       "\n",
       "                                             Encoded Encoded_Level  \n",
       "0  [34, 9, 69, 70, 16, 71, 7, 3, 8, 24, 11, 3, 5,...             2  \n",
       "1  [50, 51, 9, 52, 35, 53, 6, 54, 55, 56, 6, 57, ...             1  \n",
       "2  [15, 4, 31, 19, 63, 64, 2, 32, 33, 65, 34, 16,...             2  \n",
       "3  [69, 2, 42, 43, 3, 2, 31, 13, 10, 32, 21, 6, 7...             1  \n",
       "4  [9, 12, 35, 53, 36, 54, 55, 16, 37, 13, 36, 37...             1  "
      ]
     },
     "execution_count": 182,
     "metadata": {},
     "output_type": "execute_result"
    }
   ],
   "source": [
    "data_index['Encoded_Level'] = ''\n",
    "data_index.loc[(data_index['Score Level'] == 'high'), 'Encoded_Level'] = 2\n",
    "data_index.loc[(data_index['Score Level'] == 'medium'), 'Encoded_Level'] = 1\n",
    "data_index.loc[(data_index['Score Level'] == 'low'), 'Encoded_Level'] = 0\n",
    "data_index.to_csv('Essay_Encoded.csv')\n",
    "data_index.head()"
   ]
  },
  {
   "cell_type": "code",
   "execution_count": 183,
   "metadata": {},
   "outputs": [
    {
     "name": "stdout",
     "output_type": "stream",
     "text": [
      "9680\n",
      "(9680, 300)\n",
      "2420\n",
      "(2420,)\n"
     ]
    }
   ],
   "source": [
    "X_all, y_all = data_index['Encoded'], data_index['Encoded_Level']\n",
    "train_data, test_data, train_tag, test_tag = train_test_split(X_all, y_all, test_size=0.20, random_state=1)\n",
    "train_padded = pad_sequences(train_data, maxlen=300, padding='post', truncating='post')\n",
    "test_padded = pad_sequences(test_data, maxlen=300, padding='post', truncating='post')\n",
    "X_train = np.asarray(train_padded).astype(np.float32)\n",
    "X_test = np.asarray(test_padded).astype(np.float32)\n",
    "Y_train = np.asarray(train_tag).astype(np.float32)\n",
    "Y_test = np.asarray(test_tag).astype(np.float32)\n",
    "print(len(X_train))\n",
    "print(X_train.shape)\n",
    "print(len(Y_test))\n",
    "print(Y_test.shape)\n"
   ]
  },
  {
   "cell_type": "code",
   "execution_count": 169,
   "metadata": {},
   "outputs": [
    {
     "name": "stdout",
     "output_type": "stream",
     "text": [
      "Model: \"sequential\"\n",
      "_________________________________________________________________\n",
      "Layer (type)                 Output Shape              Param #   \n",
      "=================================================================\n",
      "embedding (Embedding)        (None, None, 64)          320000    \n",
      "_________________________________________________________________\n",
      "bidirectional (Bidirectional (None, 128)               66048     \n",
      "_________________________________________________________________\n",
      "dense (Dense)                (None, 64)                8256      \n",
      "_________________________________________________________________\n",
      "dense_1 (Dense)              (None, 6)                 390       \n",
      "=================================================================\n",
      "Total params: 394,694\n",
      "Trainable params: 394,694\n",
      "Non-trainable params: 0\n",
      "_________________________________________________________________\n"
     ]
    }
   ],
   "source": [
    "vocab_size = 5000\n",
    "embedding_dim = 64\n",
    "\n",
    "model = tf.keras.Sequential([\n",
    "    # Add an Embedding layer expecting input vocab of size 5000, and output embedding dimension of size 64 we set at the top\n",
    "    tf.keras.layers.Embedding(vocab_size, embedding_dim),\n",
    "    tf.keras.layers.Bidirectional(tf.keras.layers.LSTM(embedding_dim)),\n",
    "#    tf.keras.layers.Bidirectional(tf.keras.layers.LSTM(32)),\n",
    "    # use ReLU in place of tanh function since they are very good alternatives of each other.\n",
    "    tf.keras.layers.Dense(embedding_dim, activation='relu'),\n",
    "    # Add a Dense layer with 6 units and softmax activation.\n",
    "    # When we have multiple outputs, softmax convert outputs layers into a probability distribution.\n",
    "    tf.keras.layers.Dense(3, activation='softmax')\n",
    "])\n",
    "model.summary()"
   ]
  },
  {
   "cell_type": "code",
   "execution_count": 184,
   "metadata": {},
   "outputs": [
    {
     "name": "stdout",
     "output_type": "stream",
     "text": [
      "Train on 7744 samples, validate on 1936 samples\n",
      "Epoch 1/100\n",
      "7712/7744 [============================>.] - ETA: 0s - loss: 1.4719 - accuracy: 0.5831 - mae: 1.1149 - mse: 1.6698\n",
      "Epoch: 0, accuracy:0.5830,  loss:1.4719,  mae:1.1145,  mse:1.6692,  val_accuracy:0.5961,  val_loss:1.4406,  val_mae:1.0851,  val_mse:1.6297,  \n",
      "7744/7744 [==============================] - 92s 12ms/sample - loss: 1.4719 - accuracy: 0.5830 - mae: 1.1145 - mse: 1.6692 - val_loss: 1.4406 - val_accuracy: 0.5961 - val_mae: 1.0851 - val_mse: 1.6297\n",
      "Epoch 2/100\n",
      "7744/7744 [==============================] - 91s 12ms/sample - loss: 1.4173 - accuracy: 0.6250 - mae: 1.1145 - mse: 1.6930 - val_loss: 1.4329 - val_accuracy: 0.6074 - val_mae: 1.0851 - val_mse: 1.6347\n",
      "Epoch 3/100\n",
      "7744/7744 [==============================] - 86s 11ms/sample - loss: 1.4096 - accuracy: 0.6316 - mae: 1.1145 - mse: 1.6953 - val_loss: 1.4257 - val_accuracy: 0.6142 - val_mae: 1.0851 - val_mse: 1.6329\n",
      "Epoch 4/100\n",
      "7744/7744 [==============================] - 83s 11ms/sample - loss: 1.4116 - accuracy: 0.6273 - mae: 1.1145 - mse: 1.6937 - val_loss: 1.4248 - val_accuracy: 0.6152 - val_mae: 1.0851 - val_mse: 1.6339\n",
      "Epoch 5/100\n",
      "7744/7744 [==============================] - 76s 10ms/sample - loss: 1.4079 - accuracy: 0.6339 - mae: 1.1145 - mse: 1.6954 - val_loss: 1.4255 - val_accuracy: 0.6142 - val_mae: 1.0851 - val_mse: 1.6349\n",
      "Epoch 6/100\n",
      "7744/7744 [==============================] - 80s 10ms/sample - loss: 1.4077 - accuracy: 0.6352 - mae: 1.1145 - mse: 1.6974 - val_loss: 1.4305 - val_accuracy: 0.6095 - val_mae: 1.0851 - val_mse: 1.6364\n",
      "Epoch 7/100\n",
      "7744/7744 [==============================] - 87s 11ms/sample - loss: 1.4075 - accuracy: 0.6346 - mae: 1.1145 - mse: 1.6973 - val_loss: 1.4302 - val_accuracy: 0.6111 - val_mae: 1.0851 - val_mse: 1.6382\n",
      "Epoch 8/100\n",
      "7744/7744 [==============================] - 86s 11ms/sample - loss: 1.4034 - accuracy: 0.6382 - mae: 1.1145 - mse: 1.6974 - val_loss: 1.4236 - val_accuracy: 0.6183 - val_mae: 1.0851 - val_mse: 1.6321\n",
      "Epoch 9/100\n",
      "7744/7744 [==============================] - 87s 11ms/sample - loss: 1.4009 - accuracy: 0.6405 - mae: 1.1145 - mse: 1.6967 - val_loss: 1.4277 - val_accuracy: 0.6142 - val_mae: 1.0851 - val_mse: 1.6377\n",
      "Epoch 10/100\n",
      "7744/7744 [==============================] - 90s 12ms/sample - loss: 1.3989 - accuracy: 0.6445 - mae: 1.1145 - mse: 1.6984 - val_loss: 1.4260 - val_accuracy: 0.6152 - val_mae: 1.0851 - val_mse: 1.6366\n",
      "Epoch 11/100\n",
      "7744/7744 [==============================] - 90s 12ms/sample - loss: 1.3997 - accuracy: 0.6429 - mae: 1.1145 - mse: 1.6994 - val_loss: 1.4351 - val_accuracy: 0.6069 - val_mae: 1.0851 - val_mse: 1.6372\n",
      "Epoch 12/100\n",
      "7744/7744 [==============================] - 84s 11ms/sample - loss: 1.3958 - accuracy: 0.6463 - mae: 1.1145 - mse: 1.6986 - val_loss: 1.4274 - val_accuracy: 0.6157 - val_mae: 1.0851 - val_mse: 1.6386\n",
      "Epoch 13/100\n",
      "7744/7744 [==============================] - 87s 11ms/sample - loss: 1.3978 - accuracy: 0.6449 - mae: 1.1145 - mse: 1.6996 - val_loss: 1.4298 - val_accuracy: 0.6142 - val_mae: 1.0851 - val_mse: 1.6385\n",
      "Epoch 14/100\n",
      "7744/7744 [==============================] - 86s 11ms/sample - loss: 1.3938 - accuracy: 0.6489 - mae: 1.1145 - mse: 1.6992 - val_loss: 1.4309 - val_accuracy: 0.6116 - val_mae: 1.0851 - val_mse: 1.6378\n",
      "Epoch 15/100\n",
      "7744/7744 [==============================] - 87s 11ms/sample - loss: 1.3930 - accuracy: 0.6499 - mae: 1.1145 - mse: 1.6997 - val_loss: 1.4298 - val_accuracy: 0.6126 - val_mae: 1.0851 - val_mse: 1.6379\n",
      "Epoch 16/100\n",
      "7744/7744 [==============================] - 86s 11ms/sample - loss: 1.3945 - accuracy: 0.6473 - mae: 1.1145 - mse: 1.7001 - val_loss: 1.4346 - val_accuracy: 0.6080 - val_mae: 1.0851 - val_mse: 1.6386\n",
      "Epoch 17/100\n",
      "7744/7744 [==============================] - 90s 12ms/sample - loss: 1.3937 - accuracy: 0.6489 - mae: 1.1145 - mse: 1.6995 - val_loss: 1.4271 - val_accuracy: 0.6157 - val_mae: 1.0851 - val_mse: 1.6377\n",
      "Epoch 18/100\n",
      "7744/7744 [==============================] - 88s 11ms/sample - loss: 1.3921 - accuracy: 0.6510 - mae: 1.1145 - mse: 1.6995 - val_loss: 1.4282 - val_accuracy: 0.6152 - val_mae: 1.0851 - val_mse: 1.6390\n",
      "Epoch 19/100\n",
      "7744/7744 [==============================] - 92s 12ms/sample - loss: 1.4014 - accuracy: 0.6422 - mae: 1.1145 - mse: 1.6999 - val_loss: 1.4300 - val_accuracy: 0.6131 - val_mae: 1.0851 - val_mse: 1.6379\n",
      "Epoch 20/100\n",
      "7744/7744 [==============================] - 92s 12ms/sample - loss: 1.3950 - accuracy: 0.6484 - mae: 1.1145 - mse: 1.6993 - val_loss: 1.4379 - val_accuracy: 0.6033 - val_mae: 1.0851 - val_mse: 1.6373\n",
      "Epoch 21/100\n",
      "7744/7744 [==============================] - 88s 11ms/sample - loss: 1.3883 - accuracy: 0.6552 - mae: 1.1145 - mse: 1.6991 - val_loss: 1.4270 - val_accuracy: 0.6167 - val_mae: 1.0851 - val_mse: 1.6389\n",
      "Epoch 22/100\n",
      "7744/7744 [==============================] - 83s 11ms/sample - loss: 1.3932 - accuracy: 0.6482 - mae: 1.1145 - mse: 1.6989 - val_loss: 1.4298 - val_accuracy: 0.6131 - val_mae: 1.0851 - val_mse: 1.6385\n",
      "Epoch 23/100\n",
      "7744/7744 [==============================] - 86s 11ms/sample - loss: 1.3878 - accuracy: 0.6550 - mae: 1.1145 - mse: 1.6995 - val_loss: 1.4278 - val_accuracy: 0.6142 - val_mae: 1.0851 - val_mse: 1.6379\n",
      "Epoch 24/100\n",
      "7744/7744 [==============================] - 94s 12ms/sample - loss: 1.3840 - accuracy: 0.6588 - mae: 1.1145 - mse: 1.6996 - val_loss: 1.4277 - val_accuracy: 0.6152 - val_mae: 1.0851 - val_mse: 1.6388\n",
      "Epoch 25/100\n",
      "7744/7744 [==============================] - 88s 11ms/sample - loss: 1.3839 - accuracy: 0.6590 - mae: 1.1145 - mse: 1.6997 - val_loss: 1.4332 - val_accuracy: 0.6064 - val_mae: 1.0851 - val_mse: 1.6388\n",
      "Epoch 26/100\n",
      "7744/7744 [==============================] - 90s 12ms/sample - loss: 1.3854 - accuracy: 0.6584 - mae: 1.1145 - mse: 1.7000 - val_loss: 1.4270 - val_accuracy: 0.6152 - val_mae: 1.0851 - val_mse: 1.6393\n",
      "Epoch 27/100\n",
      "7744/7744 [==============================] - 98s 13ms/sample - loss: 1.3820 - accuracy: 0.6610 - mae: 1.1145 - mse: 1.7000 - val_loss: 1.4319 - val_accuracy: 0.6121 - val_mae: 1.0851 - val_mse: 1.6373\n",
      "Epoch 28/100\n",
      "7744/7744 [==============================] - 143s 18ms/sample - loss: 1.3822 - accuracy: 0.6610 - mae: 1.1145 - mse: 1.7000 - val_loss: 1.4295 - val_accuracy: 0.6136 - val_mae: 1.0851 - val_mse: 1.6388\n",
      "Epoch 29/100\n",
      "7744/7744 [==============================] - 112s 14ms/sample - loss: 1.3802 - accuracy: 0.6631 - mae: 1.1145 - mse: 1.7001 - val_loss: 1.4289 - val_accuracy: 0.6136 - val_mae: 1.0851 - val_mse: 1.6398\n",
      "Epoch 30/100\n",
      "7744/7744 [==============================] - 102s 13ms/sample - loss: 1.3813 - accuracy: 0.6613 - mae: 1.1145 - mse: 1.7001 - val_loss: 1.4365 - val_accuracy: 0.6059 - val_mae: 1.0851 - val_mse: 1.6386\n",
      "Epoch 31/100\n",
      "7744/7744 [==============================] - 92s 12ms/sample - loss: 1.3772 - accuracy: 0.6663 - mae: 1.1145 - mse: 1.6999 - val_loss: 1.4346 - val_accuracy: 0.6069 - val_mae: 1.0851 - val_mse: 1.6391\n",
      "Epoch 32/100\n",
      "7744/7744 [==============================] - 102s 13ms/sample - loss: 1.3760 - accuracy: 0.6681 - mae: 1.1145 - mse: 1.7004 - val_loss: 1.4382 - val_accuracy: 0.6043 - val_mae: 1.0851 - val_mse: 1.6391\n",
      "Epoch 33/100\n",
      "7744/7744 [==============================] - 100s 13ms/sample - loss: 1.3761 - accuracy: 0.6665 - mae: 1.1145 - mse: 1.7004 - val_loss: 1.4365 - val_accuracy: 0.6038 - val_mae: 1.0851 - val_mse: 1.6386\n",
      "Epoch 34/100\n",
      "7744/7744 [==============================] - 93s 12ms/sample - loss: 1.3786 - accuracy: 0.6650 - mae: 1.1145 - mse: 1.7004 - val_loss: 1.4405 - val_accuracy: 0.6012 - val_mae: 1.0851 - val_mse: 1.6391\n",
      "Epoch 35/100\n",
      "7744/7744 [==============================] - 103s 13ms/sample - loss: 1.3775 - accuracy: 0.6653 - mae: 1.1145 - mse: 1.7003 - val_loss: 1.4338 - val_accuracy: 0.6080 - val_mae: 1.0851 - val_mse: 1.6396\n",
      "Epoch 36/100\n",
      "7744/7744 [==============================] - 85s 11ms/sample - loss: 1.3958 - accuracy: 0.6476 - mae: 1.1145 - mse: 1.7003 - val_loss: 1.4324 - val_accuracy: 0.6116 - val_mae: 1.0851 - val_mse: 1.6390\n",
      "Epoch 37/100\n",
      "7744/7744 [==============================] - 99s 13ms/sample - loss: 1.4118 - accuracy: 0.6308 - mae: 1.1145 - mse: 1.6995 - val_loss: 1.4369 - val_accuracy: 0.6043 - val_mae: 1.0851 - val_mse: 1.6392\n"
     ]
    },
    {
     "name": "stdout",
     "output_type": "stream",
     "text": [
      "Epoch 38/100\n",
      "7744/7744 [==============================] - 97s 13ms/sample - loss: 1.3918 - accuracy: 0.6507 - mae: 1.1145 - mse: 1.7003 - val_loss: 1.4350 - val_accuracy: 0.6074 - val_mae: 1.0851 - val_mse: 1.6384\n",
      "Epoch 39/100\n",
      "7744/7744 [==============================] - 111s 14ms/sample - loss: 1.3796 - accuracy: 0.6635 - mae: 1.1145 - mse: 1.7003 - val_loss: 1.4318 - val_accuracy: 0.6095 - val_mae: 1.0851 - val_mse: 1.6387\n",
      "Epoch 40/100\n",
      "7744/7744 [==============================] - 92s 12ms/sample - loss: 1.3764 - accuracy: 0.6661 - mae: 1.1145 - mse: 1.7006 - val_loss: 1.4348 - val_accuracy: 0.6085 - val_mae: 1.0851 - val_mse: 1.6395\n",
      "Epoch 41/100\n",
      "7744/7744 [==============================] - 87s 11ms/sample - loss: 1.3836 - accuracy: 0.6590 - mae: 1.1145 - mse: 1.7005 - val_loss: 1.4356 - val_accuracy: 0.6074 - val_mae: 1.0851 - val_mse: 1.6391\n",
      "Epoch 42/100\n",
      "7744/7744 [==============================] - 83s 11ms/sample - loss: 1.3753 - accuracy: 0.6684 - mae: 1.1145 - mse: 1.7007 - val_loss: 1.4327 - val_accuracy: 0.6100 - val_mae: 1.0851 - val_mse: 1.6395\n",
      "Epoch 43/100\n",
      "7744/7744 [==============================] - 99s 13ms/sample - loss: 1.3710 - accuracy: 0.6726 - mae: 1.1145 - mse: 1.7008 - val_loss: 1.4383 - val_accuracy: 0.6049 - val_mae: 1.0851 - val_mse: 1.6393\n",
      "Epoch 44/100\n",
      "7744/7744 [==============================] - 72s 9ms/sample - loss: 1.3672 - accuracy: 0.6765 - mae: 1.1145 - mse: 1.7010 - val_loss: 1.4371 - val_accuracy: 0.6049 - val_mae: 1.0851 - val_mse: 1.6395\n",
      "Epoch 45/100\n",
      "7744/7744 [==============================] - 73s 9ms/sample - loss: 1.3646 - accuracy: 0.6792 - mae: 1.1145 - mse: 1.7011 - val_loss: 1.4343 - val_accuracy: 0.6069 - val_mae: 1.0851 - val_mse: 1.6398\n",
      "Epoch 46/100\n",
      "7744/7744 [==============================] - 70s 9ms/sample - loss: 1.3672 - accuracy: 0.6755 - mae: 1.1145 - mse: 1.7010 - val_loss: 1.4352 - val_accuracy: 0.6059 - val_mae: 1.0851 - val_mse: 1.6395\n",
      "Epoch 47/100\n",
      "7744/7744 [==============================] - 78s 10ms/sample - loss: 1.3625 - accuracy: 0.6810 - mae: 1.1145 - mse: 1.7012 - val_loss: 1.4339 - val_accuracy: 0.6095 - val_mae: 1.0851 - val_mse: 1.6395\n",
      "Epoch 48/100\n",
      "7744/7744 [==============================] - 81s 10ms/sample - loss: 1.3634 - accuracy: 0.6799 - mae: 1.1145 - mse: 1.7011 - val_loss: 1.4360 - val_accuracy: 0.6074 - val_mae: 1.0851 - val_mse: 1.6396\n",
      "Epoch 49/100\n",
      "7744/7744 [==============================] - 74s 10ms/sample - loss: 1.3620 - accuracy: 0.6809 - mae: 1.1145 - mse: 1.7011 - val_loss: 1.4387 - val_accuracy: 0.6033 - val_mae: 1.0851 - val_mse: 1.6395\n",
      "Epoch 50/100\n",
      "7744/7744 [==============================] - 85s 11ms/sample - loss: 1.3665 - accuracy: 0.6772 - mae: 1.1145 - mse: 1.7010 - val_loss: 1.4353 - val_accuracy: 0.6069 - val_mae: 1.0851 - val_mse: 1.6396\n",
      "Epoch 51/100\n",
      "7744/7744 [==============================] - 73s 9ms/sample - loss: 1.3605 - accuracy: 0.6827 - mae: 1.1145 - mse: 1.7012 - val_loss: 1.4323 - val_accuracy: 0.6095 - val_mae: 1.0851 - val_mse: 1.6398\n",
      "Epoch 52/100\n",
      "7744/7744 [==============================] - 85s 11ms/sample - loss: 1.3585 - accuracy: 0.6858 - mae: 1.1145 - mse: 1.7011 - val_loss: 1.4299 - val_accuracy: 0.6131 - val_mae: 1.0851 - val_mse: 1.6400\n",
      "Epoch 53/100\n",
      "7744/7744 [==============================] - 86s 11ms/sample - loss: 1.3567 - accuracy: 0.6872 - mae: 1.1145 - mse: 1.7013 - val_loss: 1.4331 - val_accuracy: 0.6085 - val_mae: 1.0851 - val_mse: 1.6398\n",
      "Epoch 54/100\n",
      "7744/7744 [==============================] - 84s 11ms/sample - loss: 1.3558 - accuracy: 0.6878 - mae: 1.1145 - mse: 1.7014 - val_loss: 1.4339 - val_accuracy: 0.6090 - val_mae: 1.0851 - val_mse: 1.6399\n",
      "Epoch 55/100\n",
      "7744/7744 [==============================] - 84s 11ms/sample - loss: 1.3553 - accuracy: 0.6884 - mae: 1.1145 - mse: 1.7011 - val_loss: 1.4335 - val_accuracy: 0.6080 - val_mae: 1.0851 - val_mse: 1.6396\n",
      "Epoch 56/100\n",
      "7744/7744 [==============================] - 89s 12ms/sample - loss: 1.3592 - accuracy: 0.6836 - mae: 1.1145 - mse: 1.7011 - val_loss: 1.4339 - val_accuracy: 0.6085 - val_mae: 1.0851 - val_mse: 1.6390\n",
      "Epoch 57/100\n",
      "7744/7744 [==============================] - 82s 11ms/sample - loss: 1.3628 - accuracy: 0.6805 - mae: 1.1145 - mse: 1.7009 - val_loss: 1.4290 - val_accuracy: 0.6152 - val_mae: 1.0851 - val_mse: 1.6396\n",
      "Epoch 58/100\n",
      "7744/7744 [==============================] - 98s 13ms/sample - loss: 1.3560 - accuracy: 0.6874 - mae: 1.1145 - mse: 1.7013 - val_loss: 1.4347 - val_accuracy: 0.6074 - val_mae: 1.0851 - val_mse: 1.6398\n",
      "Epoch 59/100\n",
      "7744/7744 [==============================] - 72s 9ms/sample - loss: 1.3584 - accuracy: 0.6848 - mae: 1.1145 - mse: 1.7011 - val_loss: 1.4363 - val_accuracy: 0.6059 - val_mae: 1.0851 - val_mse: 1.6397\n",
      "Epoch 60/100\n",
      "7744/7744 [==============================] - 74s 10ms/sample - loss: 1.3578 - accuracy: 0.6860 - mae: 1.1145 - mse: 1.7011 - val_loss: 1.4313 - val_accuracy: 0.6116 - val_mae: 1.0851 - val_mse: 1.6400\n",
      "Epoch 61/100\n",
      "7744/7744 [==============================] - 74s 10ms/sample - loss: 1.3516 - accuracy: 0.6918 - mae: 1.1145 - mse: 1.7013 - val_loss: 1.4309 - val_accuracy: 0.6126 - val_mae: 1.0851 - val_mse: 1.6398\n",
      "Epoch 62/100\n",
      "7744/7744 [==============================] - 70s 9ms/sample - loss: 1.3481 - accuracy: 0.6950 - mae: 1.1145 - mse: 1.7016 - val_loss: 1.4300 - val_accuracy: 0.6100 - val_mae: 1.0851 - val_mse: 1.6399\n",
      "Epoch 63/100\n",
      "7744/7744 [==============================] - 70s 9ms/sample - loss: 1.3478 - accuracy: 0.6959 - mae: 1.1145 - mse: 1.7014 - val_loss: 1.4328 - val_accuracy: 0.6105 - val_mae: 1.0851 - val_mse: 1.6397\n",
      "Epoch 64/100\n",
      "7744/7744 [==============================] - 70s 9ms/sample - loss: 1.3436 - accuracy: 0.6999 - mae: 1.1145 - mse: 1.7016 - val_loss: 1.4310 - val_accuracy: 0.6116 - val_mae: 1.0851 - val_mse: 1.6401\n",
      "Epoch 65/100\n",
      "7744/7744 [==============================] - 70s 9ms/sample - loss: 1.3444 - accuracy: 0.7000 - mae: 1.1145 - mse: 1.7015 - val_loss: 1.4345 - val_accuracy: 0.6085 - val_mae: 1.0851 - val_mse: 1.6398\n",
      "Epoch 66/100\n",
      "7744/7744 [==============================] - 70s 9ms/sample - loss: 1.3446 - accuracy: 0.6991 - mae: 1.1145 - mse: 1.7017 - val_loss: 1.4380 - val_accuracy: 0.6064 - val_mae: 1.0851 - val_mse: 1.6400\n",
      "Epoch 67/100\n",
      "7744/7744 [==============================] - 72s 9ms/sample - loss: 1.3399 - accuracy: 0.7038 - mae: 1.1145 - mse: 1.7017 - val_loss: 1.4353 - val_accuracy: 0.6085 - val_mae: 1.0851 - val_mse: 1.6400\n",
      "Epoch 68/100\n",
      "7744/7744 [==============================] - 73s 9ms/sample - loss: 1.3452 - accuracy: 0.6978 - mae: 1.1145 - mse: 1.7015 - val_loss: 1.4387 - val_accuracy: 0.6038 - val_mae: 1.0851 - val_mse: 1.6396\n",
      "Epoch 69/100\n",
      "7744/7744 [==============================] - 83s 11ms/sample - loss: 1.3364 - accuracy: 0.7075 - mae: 1.1145 - mse: 1.7019 - val_loss: 1.4379 - val_accuracy: 0.6049 - val_mae: 1.0851 - val_mse: 1.6396\n",
      "Epoch 70/100\n",
      "7744/7744 [==============================] - 78s 10ms/sample - loss: 1.3366 - accuracy: 0.7074 - mae: 1.1145 - mse: 1.7018 - val_loss: 1.4347 - val_accuracy: 0.6080 - val_mae: 1.0851 - val_mse: 1.6399\n",
      "Epoch 71/100\n",
      "7744/7744 [==============================] - 73s 9ms/sample - loss: 1.3378 - accuracy: 0.7058 - mae: 1.1145 - mse: 1.7018 - val_loss: 1.4330 - val_accuracy: 0.6095 - val_mae: 1.0851 - val_mse: 1.6398\n",
      "Epoch 72/100\n",
      "7744/7744 [==============================] - 70s 9ms/sample - loss: 1.3461 - accuracy: 0.6972 - mae: 1.1145 - mse: 1.7016 - val_loss: 1.4314 - val_accuracy: 0.6121 - val_mae: 1.0851 - val_mse: 1.6399\n",
      "Epoch 73/100\n",
      "7744/7744 [==============================] - 77s 10ms/sample - loss: 1.3393 - accuracy: 0.7045 - mae: 1.1145 - mse: 1.7016 - val_loss: 1.4320 - val_accuracy: 0.6111 - val_mae: 1.0851 - val_mse: 1.6402\n",
      "Epoch 74/100\n",
      "7744/7744 [==============================] - 86s 11ms/sample - loss: 1.3375 - accuracy: 0.7061 - mae: 1.1145 - mse: 1.7016 - val_loss: 1.4323 - val_accuracy: 0.6095 - val_mae: 1.0851 - val_mse: 1.6395\n",
      "Epoch 75/100\n",
      "7744/7744 [==============================] - 73s 9ms/sample - loss: 1.3329 - accuracy: 0.7111 - mae: 1.1145 - mse: 1.7019 - val_loss: 1.4357 - val_accuracy: 0.6074 - val_mae: 1.0851 - val_mse: 1.6399\n",
      "Epoch 76/100\n"
     ]
    },
    {
     "name": "stdout",
     "output_type": "stream",
     "text": [
      "7744/7744 [==============================] - 85s 11ms/sample - loss: 1.3386 - accuracy: 0.7052 - mae: 1.1145 - mse: 1.7016 - val_loss: 1.4365 - val_accuracy: 0.6064 - val_mae: 1.0851 - val_mse: 1.6401\n",
      "Epoch 77/100\n",
      "7744/7744 [==============================] - 97s 12ms/sample - loss: 1.3348 - accuracy: 0.7089 - mae: 1.1145 - mse: 1.7019 - val_loss: 1.4363 - val_accuracy: 0.6069 - val_mae: 1.0851 - val_mse: 1.6398\n",
      "Epoch 78/100\n",
      "7744/7744 [==============================] - 90s 12ms/sample - loss: 1.3333 - accuracy: 0.7104 - mae: 1.1145 - mse: 1.7018 - val_loss: 1.4398 - val_accuracy: 0.6028 - val_mae: 1.0851 - val_mse: 1.6400\n",
      "Epoch 79/100\n",
      "7744/7744 [==============================] - 77s 10ms/sample - loss: 1.3318 - accuracy: 0.7118 - mae: 1.1145 - mse: 1.7018 - val_loss: 1.4365 - val_accuracy: 0.6064 - val_mae: 1.0851 - val_mse: 1.6400\n",
      "Epoch 80/100\n",
      "7744/7744 [==============================] - 74s 10ms/sample - loss: 1.3321 - accuracy: 0.7111 - mae: 1.1145 - mse: 1.7019 - val_loss: 1.4317 - val_accuracy: 0.6126 - val_mae: 1.0851 - val_mse: 1.6400\n",
      "Epoch 81/100\n",
      "7744/7744 [==============================] - 77s 10ms/sample - loss: 1.3318 - accuracy: 0.7119 - mae: 1.1145 - mse: 1.7019 - val_loss: 1.4307 - val_accuracy: 0.6111 - val_mae: 1.0851 - val_mse: 1.6399\n",
      "Epoch 82/100\n",
      "7744/7744 [==============================] - 98s 13ms/sample - loss: 1.3378 - accuracy: 0.7058 - mae: 1.1145 - mse: 1.7015 - val_loss: 1.4389 - val_accuracy: 0.6038 - val_mae: 1.0851 - val_mse: 1.6398\n",
      "Epoch 83/100\n",
      "7744/7744 [==============================] - 98s 13ms/sample - loss: 1.3578 - accuracy: 0.6856 - mae: 1.1145 - mse: 1.7013 - val_loss: 1.4367 - val_accuracy: 0.6059 - val_mae: 1.0851 - val_mse: 1.6397\n",
      "Epoch 84/100\n",
      "7744/7744 [==============================] - 79s 10ms/sample - loss: 1.3424 - accuracy: 0.7007 - mae: 1.1145 - mse: 1.7016 - val_loss: 1.4367 - val_accuracy: 0.6054 - val_mae: 1.0851 - val_mse: 1.6396\n",
      "Epoch 85/100\n",
      "7744/7744 [==============================] - 70s 9ms/sample - loss: 1.3343 - accuracy: 0.7095 - mae: 1.1145 - mse: 1.7017 - val_loss: 1.4353 - val_accuracy: 0.6080 - val_mae: 1.0851 - val_mse: 1.6397\n",
      "Epoch 86/100\n",
      "7744/7744 [==============================] - 69s 9ms/sample - loss: 1.3317 - accuracy: 0.7120 - mae: 1.1145 - mse: 1.7020 - val_loss: 1.4383 - val_accuracy: 0.6054 - val_mae: 1.0851 - val_mse: 1.6399\n",
      "Epoch 87/100\n",
      "7744/7744 [==============================] - 83s 11ms/sample - loss: 1.3338 - accuracy: 0.7093 - mae: 1.1145 - mse: 1.7017 - val_loss: 1.4382 - val_accuracy: 0.6038 - val_mae: 1.0851 - val_mse: 1.6400\n",
      "Epoch 88/100\n",
      "7744/7744 [==============================] - 81s 11ms/sample - loss: 1.3340 - accuracy: 0.7102 - mae: 1.1145 - mse: 1.7017 - val_loss: 1.4403 - val_accuracy: 0.6018 - val_mae: 1.0851 - val_mse: 1.6399\n",
      "Epoch 89/100\n",
      "7744/7744 [==============================] - 80s 10ms/sample - loss: 1.3302 - accuracy: 0.7137 - mae: 1.1145 - mse: 1.7018 - val_loss: 1.4393 - val_accuracy: 0.6023 - val_mae: 1.0851 - val_mse: 1.6399\n",
      "Epoch 90/100\n",
      "7744/7744 [==============================] - 77s 10ms/sample - loss: 1.3290 - accuracy: 0.7151 - mae: 1.1145 - mse: 1.7018 - val_loss: 1.4374 - val_accuracy: 0.6038 - val_mae: 1.0851 - val_mse: 1.6398\n",
      "Epoch 91/100\n",
      "7744/7744 [==============================] - 85s 11ms/sample - loss: 1.3278 - accuracy: 0.7162 - mae: 1.1145 - mse: 1.7018 - val_loss: 1.4370 - val_accuracy: 0.6054 - val_mae: 1.0851 - val_mse: 1.6396\n",
      "Epoch 92/100\n",
      "7744/7744 [==============================] - 79s 10ms/sample - loss: 1.3242 - accuracy: 0.7195 - mae: 1.1145 - mse: 1.7020 - val_loss: 1.4392 - val_accuracy: 0.6023 - val_mae: 1.0851 - val_mse: 1.6401\n",
      "Epoch 93/100\n",
      "7744/7744 [==============================] - 91s 12ms/sample - loss: 1.3223 - accuracy: 0.7213 - mae: 1.1145 - mse: 1.7021 - val_loss: 1.4391 - val_accuracy: 0.6038 - val_mae: 1.0851 - val_mse: 1.6400\n",
      "Epoch 94/100\n",
      "7744/7744 [==============================] - 86s 11ms/sample - loss: 1.3201 - accuracy: 0.7233 - mae: 1.1145 - mse: 1.7021 - val_loss: 1.4478 - val_accuracy: 0.5940 - val_mae: 1.0851 - val_mse: 1.6399\n",
      "Epoch 95/100\n",
      "7744/7744 [==============================] - 82s 11ms/sample - loss: 1.3213 - accuracy: 0.7225 - mae: 1.1145 - mse: 1.7021 - val_loss: 1.4373 - val_accuracy: 0.6043 - val_mae: 1.0851 - val_mse: 1.6396\n",
      "Epoch 96/100\n",
      "7744/7744 [==============================] - 81s 10ms/sample - loss: 1.3213 - accuracy: 0.7222 - mae: 1.1145 - mse: 1.7019 - val_loss: 1.4366 - val_accuracy: 0.6049 - val_mae: 1.0851 - val_mse: 1.6398\n",
      "Epoch 97/100\n",
      "7744/7744 [==============================] - 83s 11ms/sample - loss: 1.3199 - accuracy: 0.7238 - mae: 1.1145 - mse: 1.7019 - val_loss: 1.4383 - val_accuracy: 0.6054 - val_mae: 1.0851 - val_mse: 1.6401\n",
      "Epoch 98/100\n",
      "7744/7744 [==============================] - 85s 11ms/sample - loss: 1.3220 - accuracy: 0.7218 - mae: 1.1145 - mse: 1.7018 - val_loss: 1.4398 - val_accuracy: 0.6038 - val_mae: 1.0851 - val_mse: 1.6398\n",
      "Epoch 99/100\n",
      "7744/7744 [==============================] - 78s 10ms/sample - loss: 1.3254 - accuracy: 0.7184 - mae: 1.1145 - mse: 1.7017 - val_loss: 1.4436 - val_accuracy: 0.5997 - val_mae: 1.0851 - val_mse: 1.6400\n",
      "Epoch 100/100\n",
      "7744/7744 [==============================] - 88s 11ms/sample - loss: 1.3361 - accuracy: 0.7067 - mae: 1.1145 - mse: 1.7016 - val_loss: 1.4479 - val_accuracy: 0.5961 - val_mae: 1.0851 - val_mse: 1.6394\n"
     ]
    }
   ],
   "source": [
    "model.compile(optimizer='adam',\n",
    "              loss=tf.keras.losses.SparseCategoricalCrossentropy(from_logits=True),\n",
    "              metrics=['accuracy','mae', 'mse'])\n",
    "\n",
    "early_stop = keras.callbacks.EarlyStopping(monitor='accuracy', patience=10)\n",
    "\n",
    "history = model.fit(X_train, Y_train, \n",
    "                    validation_split = 0.2, \n",
    "                    callbacks=[early_stop, tfdocs.modeling.EpochDots()], \n",
    "                    epochs=100)"
   ]
  },
  {
   "cell_type": "code",
   "execution_count": 185,
   "metadata": {},
   "outputs": [
    {
     "data": {
      "text/plain": [
       "Text(0, 0.5, 'accuracy')"
      ]
     },
     "execution_count": 185,
     "metadata": {},
     "output_type": "execute_result"
    },
    {
     "data": {
      "image/png": "[encoded data removed]",
      "text/plain": [
       "<Figure size 432x288 with 1 Axes>"
      ]
     },
     "metadata": {
      "needs_background": "light"
     },
     "output_type": "display_data"
    }
   ],
   "source": [
    "plotter = tfdocs.plots.HistoryPlotter(smoothing_std=2)\n",
    "\n",
    "plotter.plot({'Accuracy': history}, metric = \"accuracy\")\n",
    "plt.ylim([0, 1])\n",
    "plt.ylabel('accuracy')"
   ]
  },
  {
   "cell_type": "code",
   "execution_count": 188,
   "metadata": {},
   "outputs": [
    {
     "name": "stdout",
     "output_type": "stream",
     "text": [
      "2420/2420 - 5s - loss: 1.4531 - accuracy: 0.5909 - mae: 1.1022 - mse: 1.6680\n",
      "Test set loss:  1.45 , accuracy:  0.59, mae:  1.10, mse:  1.67  \n"
     ]
    }
   ],
   "source": [
    "loss, accuracy ,mae, mse = model.evaluate(X_test, Y_test, verbose=2)\n",
    "print(\"Test set loss: {:5.2f} , accuracy: {:5.2f}, mae: {:5.2f}, mse: {:5.2f}  \".format(loss, accuracy, mae, mse))"
   ]
  },
  {
   "cell_type": "code",
   "execution_count": 225,
   "metadata": {},
   "outputs": [
    {
     "name": "stdout",
     "output_type": "stream",
     "text": [
      "              precision    recall  f1-score   support\n",
      "\n",
      "         low      0.000     0.000     0.000       260\n",
      "      medium      0.606     0.749     0.670      1336\n",
      "        high      0.558     0.521     0.539       824\n",
      "\n",
      "    accuracy                          0.591      2420\n",
      "   macro avg      0.388     0.423     0.403      2420\n",
      "weighted avg      0.525     0.591     0.553      2420\n",
      "\n"
     ]
    }
   ],
   "source": [
    "from sklearn import metrics\n",
    "y_pred = model.predict(X_test)\n",
    "y_pred = np.argmax(y_pred, axis = 1)\n",
    "\n",
    "target_names = ['low', 'medium', 'high']\n",
    "print(metrics.classification_report(Y_test, y_pred, digits=3, target_names=target_names))"
   ]
  },
  {
   "cell_type": "code",
   "execution_count": 193,
   "metadata": {},
   "outputs": [
    {
     "name": "stdout",
     "output_type": "stream",
     "text": [
      "QWK 0.32756\n"
     ]
    }
   ],
   "source": [
    "from sklearn.metrics import confusion_matrix, cohen_kappa_score\n",
    "print('QWK {:5.5f}'.format(cohen_kappa_score(Y_test, y_pred, weights='quadratic')))"
   ]
  },
  {
   "cell_type": "code",
   "execution_count": null,
   "metadata": {},
   "outputs": [],
   "source": []
  }
 ],
 "metadata": {
  "kernelspec": {
   "display_name": "Python 3",
   "language": "python",
   "name": "python3"
  },
  "language_info": {
   "codemirror_mode": {
    "name": "ipython",
    "version": 3
   },
   "file_extension": ".py",
   "mimetype": "text/x-python",
   "name": "python",
   "nbconvert_exporter": "python",
   "pygments_lexer": "ipython3",
   "version": "3.7.4"
  }
 },
 "nbformat": 4,
 "nbformat_minor": 2
}
